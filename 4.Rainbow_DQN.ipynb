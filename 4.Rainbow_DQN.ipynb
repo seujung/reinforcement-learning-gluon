{
 "cells": [
  {
   "cell_type": "code",
   "execution_count": 1,
   "metadata": {},
   "outputs": [],
   "source": [
    "import math, random\n",
    "\n",
    "import gym\n",
    "import numpy as np\n",
    "\n",
    "import mxnet as mx\n",
    "from mxnet import gluon, autograd, nd\n",
    "from mxnet.gluon import nn\n",
    "\n",
    "from tqdm import tqdm, trange\n",
    "from mxboard import SummaryWriter"
   ]
  },
  {
   "cell_type": "code",
   "execution_count": 2,
   "metadata": {},
   "outputs": [],
   "source": [
    "from collections import deque\n",
    "\n",
    "class ReplayBuffer(object):\n",
    "    def __init__(self, capacity):\n",
    "        self.buffer = deque(maxlen=capacity)\n",
    "    \n",
    "    def push(self, state, action, reward, next_state, done):\n",
    "        state      = np.expand_dims(state, 0)\n",
    "        next_state = np.expand_dims(next_state, 0)\n",
    "            \n",
    "        self.buffer.append((state, action, reward, next_state, done))\n",
    "    \n",
    "    def sample(self, batch_size):\n",
    "        state, action, reward, next_state, done = zip(*random.sample(self.buffer, batch_size))\n",
    "        return np.concatenate(state), action, reward, np.concatenate(next_state), done\n",
    "    \n",
    "    def __len__(self):\n",
    "        return len(self.buffer)"
   ]
  },
  {
   "cell_type": "code",
   "execution_count": 3,
   "metadata": {},
   "outputs": [],
   "source": [
    "def ger(x1, x2):\n",
    "    result = list()\n",
    "    for i in range(x2.shape[0]):      \n",
    "        tmp = (x1 * x2[i])\n",
    "        result.append(tmp)\n",
    "    return nd.stack(*result).T"
   ]
  },
  {
   "cell_type": "code",
   "execution_count": 4,
   "metadata": {},
   "outputs": [],
   "source": [
    "ctx=mx.gpu()\n",
    "num_atoms = 51\n",
    "Vmin = -10\n",
    "Vmax = 10"
   ]
  },
  {
   "cell_type": "code",
   "execution_count": 5,
   "metadata": {},
   "outputs": [],
   "source": [
    "from wrappers import make_atari, wrap_deepmind, wrap_mxnet"
   ]
  },
  {
   "cell_type": "code",
   "execution_count": 6,
   "metadata": {},
   "outputs": [],
   "source": [
    "env_id = \"PongNoFrameskip-v4\"\n",
    "env    = make_atari(env_id)\n",
    "env    = wrap_deepmind(env, frame_stack=True)\n",
    "env    = wrap_mxnet(env)"
   ]
  },
  {
   "cell_type": "code",
   "execution_count": 7,
   "metadata": {},
   "outputs": [],
   "source": [
    "class NoiseLayer(nn.Block):\n",
    "    def __init__(self, in_features, out_features, ctx, std_init=0.4, mode='trainig', **kwargs):\n",
    "        super(NoiseLayer, self).__init__(**kwargs)\n",
    "        self.in_features = in_features\n",
    "        self.out_features = out_features\n",
    "        self.std_init = std_init\n",
    "        self.mode = mode\n",
    "        self.ctx=ctx\n",
    "        \n",
    "        \n",
    "        with self.name_scope():\n",
    "            self.weight_mu = self.params.get('weight_mu', shape=(out_features, in_features))\n",
    "            self.weight_sigma = self.params.get('weight_sigma', shape=(out_features, in_features))\n",
    "            self.weight_epsilon = self.params.get('weight_epsilon', shape=(out_features, in_features), grad_req='null')\n",
    "        \n",
    "            self.bias_mu = self.params.get('bias_mu', shape=(out_features))\n",
    "            self.bias_sigma = self.params.get('bias_sigma', shape=(out_features))\n",
    "            self.bias_epsilon = self.params.get('bias_epsilon', shape=(out_features), grad_req='null')\n",
    "        self.initiali_idx = 0\n",
    "    \n",
    "    def reset_parameters(self):\n",
    "        mu_range = 1 / math.sqrt(self.weight_mu.shape[1])\n",
    "        _weight_mu = mx.random.uniform(-mu_range, mu_range, shape=self.weight_mu.shape, ctx=self.ctx)\n",
    "        self._weight_mu = _weight_mu\n",
    "#         self.params.setattr('.*weight_mu', _weight_mu)\n",
    "        with autograd.pause():\n",
    "            self.weight_mu.set_data(_weight_mu)\n",
    "        _weight_sigma = nd.zeros(shape=self.weight_sigma.shape, ctx=self.ctx)\n",
    "        _weight_sigma += self.std_init / math.sqrt(self.weight_sigma.shape[1])\n",
    "#         self.params.setattr('weight_sigma', _weight_sigma)\n",
    "        with autograd.pause():\n",
    "            self.weight_sigma.set_data(_weight_sigma)\n",
    "        \n",
    "        _bias_mu = mx.random.uniform(-mu_range, mu_range, shape=self.bias_mu.shape, ctx=self.ctx)\n",
    "        self.params.setattr('bias_mu', _bias_mu)\n",
    "        with autograd.pause():\n",
    "            self.bias_mu.set_data(_bias_mu)\n",
    "        _bias_sigma = nd.zeros(shape=self.bias_sigma.shape, ctx=self.ctx)\n",
    "        _bias_sigma += self.std_init / math.sqrt(self.bias_sigma.shape[0])\n",
    "#         self.params.setattr('bias_sigma', _bias_sigma)\n",
    "        with autograd.pause():\n",
    "            self.bias_sigma.set_data(_bias_sigma)\n",
    "    \n",
    "    def reset(self):\n",
    "        self.reset_noise()\n",
    "        self.reset_parameters()\n",
    "        \n",
    "    \n",
    "    def reset_noise(self):\n",
    "        epsilon_in = self._scale_noise(self.in_features)\n",
    "        epsilon_out = self._scale_noise(self.out_features)\n",
    "        \n",
    "        _weight_epsilon = ger(epsilon_out, epsilon_in)\n",
    "        self.params.setattr('weight_epsilon', _weight_epsilon)\n",
    "        with autograd.pause():\n",
    "            self.weight_epsilon.set_data(_weight_epsilon)\n",
    "        _bias_epsilon = self._scale_noise(self.out_features)\n",
    "        self.params.setattr('bias_epsilon', _bias_epsilon)\n",
    "        with autograd.pause():\n",
    "            self.bias_epsilon.set_data(_bias_epsilon)\n",
    "    \n",
    "    def _scale_noise(self, size):\n",
    "        x = nd.random_normal(shape=size)\n",
    "        x = nd.multiply(x.sign(), x.abs().sqrt())\n",
    "        return x\n",
    "        \n",
    "    \n",
    "    def forward(self, x):\n",
    "#         if self.initiali_idx ==0:\n",
    "#             self.reset_noise()\n",
    "#             self.reset_parameters()\n",
    "#             self.initiali_idx +=1\n",
    "        with x.context:\n",
    "            if self.mode == 'trainig':\n",
    "                weight = self.weight_mu.data(self.ctx) + nd.multiply(self.weight_sigma.data(self.ctx), self.weight_epsilon.data(self.ctx))\n",
    "                bias = self.bias_mu.data() +nd.multiply(self.bias_sigma.data(self.ctx), self.bias_epsilon.data(self.ctx))\n",
    "            else:\n",
    "                weight = self.weight_mu.data(self.ctx)\n",
    "                bias = self.bias_mu.data(self.ctx)\n",
    "            out = nd.FullyConnected(x, weight, bias, num_hidden=weight.shape[0])\n",
    "        return out"
   ]
  },
  {
   "cell_type": "code",
   "execution_count": 142,
   "metadata": {},
   "outputs": [],
   "source": [
    "class RainbowDQN(nn.Block):\n",
    "    def __init__(self, input_shape, num_actions, num_atoms, Vmin, Vmax, ctx, **kwargs):\n",
    "        super(RainbowDQN, self).__init__(**kwargs)\n",
    "        \n",
    "        self.input_shape = input_shape\n",
    "        self.num_actions = num_actions\n",
    "        self.num_atoms = num_atoms\n",
    "        self.Vmin = Vmin\n",
    "        self.Vmax = Vmax\n",
    "        self.ctx = ctx\n",
    "        \n",
    "        with self.name_scope():\n",
    "            self.conv1 = nn.Conv2D(32, 8, 4, in_channels=input_shape[0])\n",
    "            self.bn1 = nn.BatchNorm()\n",
    "            self.conv2 = nn.Conv2D(64, 4, 2, in_channels=32)\n",
    "            self.bn2 = nn.BatchNorm()\n",
    "            self.conv3 = nn.Conv2D(64, 3, 1, in_channels=64)\n",
    "            self.bn3 = nn.BatchNorm()\n",
    "            \n",
    "            self.noisy_value1 = NoiseLayer(3136, 512, ctx)\n",
    "            self.noisy_value2 = NoiseLayer(512, self.num_atoms, ctx)\n",
    "            \n",
    "            self.noisy_value_adv1 = NoiseLayer(3136, 512, ctx)\n",
    "            self.noisy_value_adv2 = NoiseLayer(512, self.num_atoms * self.num_actions, ctx)\n",
    "        \n",
    "    \n",
    "    def forward(self, x):\n",
    "        batch_size = x.shape[0]\n",
    "        self.noisy_value1.reset()\n",
    "        self.noisy_value2.reset()\n",
    "        self.noisy_value_adv1.reset()\n",
    "        self.noisy_value_adv2.reset()\n",
    "        \n",
    "        \n",
    "        x = x /255.0\n",
    "        x = self.conv1(x)\n",
    "        x = self.bn1(x)\n",
    "        x = nd.relu(x)\n",
    "        x = self.conv2(x)\n",
    "        x = self.bn2(x)\n",
    "        x = nd.relu(x)\n",
    "        x = self.conv3(x)\n",
    "        x = self.bn3(x)\n",
    "        x = nd.relu(x)\n",
    "        x = x.reshape(batch_size, -1)\n",
    "        \n",
    "        value = nd.relu(self.noisy_value1(x))\n",
    "        value = self.noisy_value2(value)\n",
    "        \n",
    "        adv = nd.relu(self.noisy_value_adv1(x))\n",
    "        adv = self.noisy_value_adv2(adv)\n",
    "  \n",
    "        value = value.reshape(batch_size, 1, self.num_atoms)\n",
    "        adv = adv.reshape(batch_size, self.num_actions, self.num_atoms)\n",
    "        \n",
    "        out = value + adv - nd.mean(adv, axis=1, keepdims=True)\n",
    "        out = nd.softmax(out.reshape(-1, self.num_atoms)).reshape(-1, self.num_actions, self.num_atoms)\n",
    "        return out\n",
    "    \n",
    "    def reset_noise(self):\n",
    "        self.noisy_value1.reset_noise()\n",
    "        self.noisy_value2.reset_noise()\n",
    "        self.noisy_value_adv1.reset_noise()\n",
    "        self.noisy_value_adv2.reset_noise()\n",
    "    \n",
    "    def act(self, state):\n",
    "        state = nd.array(np.float32(state), ctx=self.ctx).expand_dims(0)\n",
    "        dist = self.forward(state)\n",
    "        dist = dist * nd.array(np.linspace(self.Vmin, self.Vmax, self.num_atoms), ctx=self.ctx)\n",
    "        action = int(nd.argmax(dist.sum(2),1).asnumpy())\n",
    "        return action"
   ]
  },
  {
   "cell_type": "code",
   "execution_count": 95,
   "metadata": {},
   "outputs": [],
   "source": [
    "def proj_distribution(next_state, reward, done, target_model, num_atoms, ctx):\n",
    "    batch_size = next_state.shape[0]\n",
    "    \n",
    "    delta_z = float(Vmax - Vmin) / (num_atoms - 1)\n",
    "    support = nd.array(np.linspace(Vmin, Vmax, num_atoms), ctx=ctx)\n",
    "    \n",
    "    next_dist = target_model(next_state) * support\n",
    "    next_action = nd.argmax(next_dist.sum(2),1)\n",
    "    \n",
    "    action_tmp = nd.stack(nd.arange(next_action.shape[0], ctx=ctx).expand_dims(-1),next_action.expand_dims(-1), axis=0)\n",
    "    next_dist = nd.gather_nd(next_dist, action_tmp)\n",
    "    next_dist = next_dist.squeeze()\n",
    "    \n",
    "    reward = nd.repeat(reward.expand_dims(1), axis=1, repeats=next_dist.shape[-1])\n",
    "    done = nd.repeat(done.expand_dims(1), axis=1, repeats=next_dist.shape[-1])\n",
    "    support = nd.repeat(nd.expand_dims(support,0), axis=0, repeats=next_dist.shape[0])\n",
    "    \n",
    "    Tz = reward + (1 - done) * 0.99 * support\n",
    "    Tz = nd.clip(Tz, a_min=Vmin, a_max=Vmax)\n",
    "    b  = (Tz - Vmin) / delta_z\n",
    "    l = b.floor()\n",
    "    u = b.ceil()\n",
    "    \n",
    "    offset = nd.expand_dims(nd.array(np.linspace(0, (batch_size - 1) * num_atoms, batch_size), ctx=ctx), 1)\n",
    "    offset = nd.repeat(offset,repeats=51, axis=1)\n",
    "    \n",
    "    proj_dist = np.zeros(next_dist.shape) \n",
    "    index = (l + offset).reshape(-1).asnumpy()\n",
    "    index = index.astype(int)\n",
    "    value = (next_dist * (u - b)).reshape(-1).asnumpy()\n",
    "    np.put(proj_dist.reshape(-1), index, value)\n",
    "    \n",
    "    index = (u + offset).reshape(-1).asnumpy()\n",
    "    index = index.astype(int)\n",
    "    value = (next_dist * (b - l)).reshape(-1).asnumpy()\n",
    "    np.put(proj_dist.reshape(-1), index, value)\n",
    "    proj_dist = nd.array(proj_dist, ctx=ctx)\n",
    "\n",
    "    return proj_dist"
   ]
  },
  {
   "cell_type": "code",
   "execution_count": 157,
   "metadata": {},
   "outputs": [],
   "source": [
    "def compute_td_loss(batch_size, current_model, target_model, num_atoms, ctx):\n",
    "    state, action, reward, next_state, done = replay_buffer.sample(batch_size)\n",
    "\n",
    "    state      = nd.array((np.float32(state)), ctx=ctx)\n",
    "    next_state = nd.array(np.float32(next_state), ctx=ctx)\n",
    "    action     = nd.array((action), ctx=ctx)\n",
    "    reward     = nd.array((reward), ctx=ctx)\n",
    "    done       = nd.array((done), ctx=ctx)\n",
    "        \n",
    "    proj_dist = proj_distribution(next_state, reward, done, target_model, num_atoms, ctx)\n",
    "    \n",
    "    dist = current_model(state)\n",
    "    action = nd.expand_dims(action, 1)\n",
    "    \n",
    "    dist = nd.gather_nd(dist, nd.stack(nd.arange(action.shape[0], ctx=ctx).expand_dims(-1),action.expand_dims(-1), axis=0))\n",
    "    dist = dist.squeeze()\n",
    "    dist = nd.clip(dist, 0.01, 0.99)\n",
    "    loss = -(proj_dist * dist.log()).sum(1)\n",
    "    loss = loss.mean()\n",
    "        \n",
    "    return loss"
   ]
  },
  {
   "cell_type": "code",
   "execution_count": 110,
   "metadata": {},
   "outputs": [],
   "source": [
    "def update_target(current_model, target_model):\n",
    "    current_model.save_parameters('./tmp/rainbow_current_model')\n",
    "    target_model.load_parameters('./tmp/rainbow_current_model')"
   ]
  },
  {
   "cell_type": "code",
   "execution_count": 143,
   "metadata": {},
   "outputs": [],
   "source": [
    "num_atoms = 51\n",
    "Vmin = -10\n",
    "Vmax = 10\n",
    "batch_size = 32\n",
    "\n",
    "replay_initial = 10000\n",
    "replay_buffer = ReplayBuffer(100000)\n",
    "\n",
    "current_model = RainbowDQN(env.observation_space.shape, env.action_space.n, num_atoms, Vmin, Vmax, ctx)\n",
    "target_model = RainbowDQN(env.observation_space.shape, env.action_space.n, num_atoms, Vmin, Vmax, ctx)\n",
    "current_model.initialize(ctx=ctx)\n",
    "target_model.initialize(ctx=ctx)\n",
    "trainer = gluon.Trainer(current_model.collect_params(), optimizer='adam', optimizer_params={'learning_rate':0.0001})"
   ]
  },
  {
   "cell_type": "code",
   "execution_count": 144,
   "metadata": {},
   "outputs": [],
   "source": [
    "num_frames = 1400000\n",
    "batch_size = 32\n",
    "gamma      = 0.99\n",
    "\n",
    "losses = []\n",
    "all_rewards = []\n",
    "episode_reward = 0\n",
    "\n",
    "state = env.reset()\n",
    "writer = SummaryWriter(logdir='./logs',filename_suffix=\"Rainbow\")"
   ]
  },
  {
   "cell_type": "code",
   "execution_count": 169,
   "metadata": {},
   "outputs": [
    {
     "data": {
      "text/plain": [
       "0"
      ]
     },
     "execution_count": 169,
     "metadata": {},
     "output_type": "execute_result"
    }
   ],
   "source": [
    "action"
   ]
  },
  {
   "cell_type": "code",
   "execution_count": 196,
   "metadata": {},
   "outputs": [
    {
     "name": "stderr",
     "output_type": "stream",
     "text": [
      "  0%|          | 24/1400000 [00:47<762:57:07,  1.96s/it]"
     ]
    },
    {
     "ename": "KeyboardInterrupt",
     "evalue": "",
     "output_type": "error",
     "traceback": [
      "\u001b[0;31m---------------------------------------------------------------------------\u001b[0m",
      "\u001b[0;31mKeyboardInterrupt\u001b[0m                         Traceback (most recent call last)",
      "\u001b[0;32m<ipython-input-196-4f0fd877db81>\u001b[0m in \u001b[0;36m<module>\u001b[0;34m\u001b[0m\n\u001b[1;32m     34\u001b[0m             \u001b[0mloss\u001b[0m \u001b[0;34m=\u001b[0m \u001b[0mcompute_td_loss\u001b[0m\u001b[0;34m(\u001b[0m\u001b[0mbatch_size\u001b[0m\u001b[0;34m,\u001b[0m \u001b[0mcurrent_model\u001b[0m\u001b[0;34m,\u001b[0m \u001b[0mtarget_model\u001b[0m\u001b[0;34m,\u001b[0m \u001b[0mnum_atoms\u001b[0m\u001b[0;34m,\u001b[0m \u001b[0mctx\u001b[0m\u001b[0;34m)\u001b[0m\u001b[0;34m\u001b[0m\u001b[0;34m\u001b[0m\u001b[0m\n\u001b[1;32m     35\u001b[0m             \u001b[0mloss\u001b[0m\u001b[0;34m.\u001b[0m\u001b[0mbackward\u001b[0m\u001b[0;34m(\u001b[0m\u001b[0;34m)\u001b[0m\u001b[0;34m\u001b[0m\u001b[0;34m\u001b[0m\u001b[0m\n\u001b[0;32m---> 36\u001b[0;31m             \u001b[0mcurrent_model\u001b[0m\u001b[0;34m.\u001b[0m\u001b[0mreset_noise\u001b[0m\u001b[0;34m(\u001b[0m\u001b[0;34m)\u001b[0m\u001b[0;34m\u001b[0m\u001b[0;34m\u001b[0m\u001b[0m\n\u001b[0m\u001b[1;32m     37\u001b[0m             \u001b[0mtarget_model\u001b[0m\u001b[0;34m.\u001b[0m\u001b[0mreset_noise\u001b[0m\u001b[0;34m(\u001b[0m\u001b[0;34m)\u001b[0m\u001b[0;34m\u001b[0m\u001b[0;34m\u001b[0m\u001b[0m\n\u001b[1;32m     38\u001b[0m         \u001b[0mtrainer\u001b[0m\u001b[0;34m.\u001b[0m\u001b[0mstep\u001b[0m\u001b[0;34m(\u001b[0m\u001b[0mbatch_size\u001b[0m\u001b[0;34m)\u001b[0m\u001b[0;34m\u001b[0m\u001b[0;34m\u001b[0m\u001b[0m\n",
      "\u001b[0;32m<ipython-input-142-8fd4ef463875>\u001b[0m in \u001b[0;36mreset_noise\u001b[0;34m(self)\u001b[0m\n\u001b[1;32m     61\u001b[0m         \u001b[0mself\u001b[0m\u001b[0;34m.\u001b[0m\u001b[0mnoisy_value1\u001b[0m\u001b[0;34m.\u001b[0m\u001b[0mreset_noise\u001b[0m\u001b[0;34m(\u001b[0m\u001b[0;34m)\u001b[0m\u001b[0;34m\u001b[0m\u001b[0;34m\u001b[0m\u001b[0m\n\u001b[1;32m     62\u001b[0m         \u001b[0mself\u001b[0m\u001b[0;34m.\u001b[0m\u001b[0mnoisy_value2\u001b[0m\u001b[0;34m.\u001b[0m\u001b[0mreset_noise\u001b[0m\u001b[0;34m(\u001b[0m\u001b[0;34m)\u001b[0m\u001b[0;34m\u001b[0m\u001b[0;34m\u001b[0m\u001b[0m\n\u001b[0;32m---> 63\u001b[0;31m         \u001b[0mself\u001b[0m\u001b[0;34m.\u001b[0m\u001b[0mnoisy_value_adv1\u001b[0m\u001b[0;34m.\u001b[0m\u001b[0mreset_noise\u001b[0m\u001b[0;34m(\u001b[0m\u001b[0;34m)\u001b[0m\u001b[0;34m\u001b[0m\u001b[0;34m\u001b[0m\u001b[0m\n\u001b[0m\u001b[1;32m     64\u001b[0m         \u001b[0mself\u001b[0m\u001b[0;34m.\u001b[0m\u001b[0mnoisy_value_adv2\u001b[0m\u001b[0;34m.\u001b[0m\u001b[0mreset_noise\u001b[0m\u001b[0;34m(\u001b[0m\u001b[0;34m)\u001b[0m\u001b[0;34m\u001b[0m\u001b[0;34m\u001b[0m\u001b[0m\n\u001b[1;32m     65\u001b[0m \u001b[0;34m\u001b[0m\u001b[0m\n",
      "\u001b[0;32m<ipython-input-7-d1ee2a75fc2b>\u001b[0m in \u001b[0;36mreset_noise\u001b[0;34m(self)\u001b[0m\n\u001b[1;32m     51\u001b[0m         \u001b[0mepsilon_out\u001b[0m \u001b[0;34m=\u001b[0m \u001b[0mself\u001b[0m\u001b[0;34m.\u001b[0m\u001b[0m_scale_noise\u001b[0m\u001b[0;34m(\u001b[0m\u001b[0mself\u001b[0m\u001b[0;34m.\u001b[0m\u001b[0mout_features\u001b[0m\u001b[0;34m)\u001b[0m\u001b[0;34m\u001b[0m\u001b[0;34m\u001b[0m\u001b[0m\n\u001b[1;32m     52\u001b[0m \u001b[0;34m\u001b[0m\u001b[0m\n\u001b[0;32m---> 53\u001b[0;31m         \u001b[0m_weight_epsilon\u001b[0m \u001b[0;34m=\u001b[0m \u001b[0mger\u001b[0m\u001b[0;34m(\u001b[0m\u001b[0mepsilon_out\u001b[0m\u001b[0;34m,\u001b[0m \u001b[0mepsilon_in\u001b[0m\u001b[0;34m)\u001b[0m\u001b[0;34m\u001b[0m\u001b[0;34m\u001b[0m\u001b[0m\n\u001b[0m\u001b[1;32m     54\u001b[0m         \u001b[0mself\u001b[0m\u001b[0;34m.\u001b[0m\u001b[0mparams\u001b[0m\u001b[0;34m.\u001b[0m\u001b[0msetattr\u001b[0m\u001b[0;34m(\u001b[0m\u001b[0;34m'weight_epsilon'\u001b[0m\u001b[0;34m,\u001b[0m \u001b[0m_weight_epsilon\u001b[0m\u001b[0;34m)\u001b[0m\u001b[0;34m\u001b[0m\u001b[0;34m\u001b[0m\u001b[0m\n\u001b[1;32m     55\u001b[0m         \u001b[0;32mwith\u001b[0m \u001b[0mautograd\u001b[0m\u001b[0;34m.\u001b[0m\u001b[0mpause\u001b[0m\u001b[0;34m(\u001b[0m\u001b[0;34m)\u001b[0m\u001b[0;34m:\u001b[0m\u001b[0;34m\u001b[0m\u001b[0;34m\u001b[0m\u001b[0m\n",
      "\u001b[0;32m<ipython-input-3-cc49a40bc2d2>\u001b[0m in \u001b[0;36mger\u001b[0;34m(x1, x2)\u001b[0m\n\u001b[1;32m      2\u001b[0m     \u001b[0mresult\u001b[0m \u001b[0;34m=\u001b[0m \u001b[0mlist\u001b[0m\u001b[0;34m(\u001b[0m\u001b[0;34m)\u001b[0m\u001b[0;34m\u001b[0m\u001b[0;34m\u001b[0m\u001b[0m\n\u001b[1;32m      3\u001b[0m     \u001b[0;32mfor\u001b[0m \u001b[0mi\u001b[0m \u001b[0;32min\u001b[0m \u001b[0mrange\u001b[0m\u001b[0;34m(\u001b[0m\u001b[0mx2\u001b[0m\u001b[0;34m.\u001b[0m\u001b[0mshape\u001b[0m\u001b[0;34m[\u001b[0m\u001b[0;36m0\u001b[0m\u001b[0;34m]\u001b[0m\u001b[0;34m)\u001b[0m\u001b[0;34m:\u001b[0m\u001b[0;34m\u001b[0m\u001b[0;34m\u001b[0m\u001b[0m\n\u001b[0;32m----> 4\u001b[0;31m         \u001b[0mtmp\u001b[0m \u001b[0;34m=\u001b[0m \u001b[0;34m(\u001b[0m\u001b[0mx1\u001b[0m \u001b[0;34m*\u001b[0m \u001b[0mx2\u001b[0m\u001b[0;34m[\u001b[0m\u001b[0mi\u001b[0m\u001b[0;34m]\u001b[0m\u001b[0;34m)\u001b[0m\u001b[0;34m\u001b[0m\u001b[0;34m\u001b[0m\u001b[0m\n\u001b[0m\u001b[1;32m      5\u001b[0m         \u001b[0mresult\u001b[0m\u001b[0;34m.\u001b[0m\u001b[0mappend\u001b[0m\u001b[0;34m(\u001b[0m\u001b[0mtmp\u001b[0m\u001b[0;34m)\u001b[0m\u001b[0;34m\u001b[0m\u001b[0;34m\u001b[0m\u001b[0m\n\u001b[1;32m      6\u001b[0m     \u001b[0;32mreturn\u001b[0m \u001b[0mnd\u001b[0m\u001b[0;34m.\u001b[0m\u001b[0mstack\u001b[0m\u001b[0;34m(\u001b[0m\u001b[0;34m*\u001b[0m\u001b[0mresult\u001b[0m\u001b[0;34m)\u001b[0m\u001b[0;34m.\u001b[0m\u001b[0mT\u001b[0m\u001b[0;34m\u001b[0m\u001b[0;34m\u001b[0m\u001b[0m\n",
      "\u001b[0;32m/opt/venv/lib/python3.6/site-packages/mxnet/ndarray/ndarray.py\u001b[0m in \u001b[0;36m__getitem__\u001b[0;34m(self, key)\u001b[0m\n\u001b[1;32m    504\u001b[0m         \u001b[0mindexing_dispatch_code\u001b[0m \u001b[0;34m=\u001b[0m \u001b[0m_get_indexing_dispatch_code\u001b[0m\u001b[0;34m(\u001b[0m\u001b[0mkey\u001b[0m\u001b[0;34m)\u001b[0m\u001b[0;34m\u001b[0m\u001b[0;34m\u001b[0m\u001b[0m\n\u001b[1;32m    505\u001b[0m         \u001b[0;32mif\u001b[0m \u001b[0mindexing_dispatch_code\u001b[0m \u001b[0;34m==\u001b[0m \u001b[0m_NDARRAY_BASIC_INDEXING\u001b[0m\u001b[0;34m:\u001b[0m\u001b[0;34m\u001b[0m\u001b[0;34m\u001b[0m\u001b[0m\n\u001b[0;32m--> 506\u001b[0;31m             \u001b[0;32mreturn\u001b[0m \u001b[0mself\u001b[0m\u001b[0;34m.\u001b[0m\u001b[0m_get_nd_basic_indexing\u001b[0m\u001b[0;34m(\u001b[0m\u001b[0mkey\u001b[0m\u001b[0;34m)\u001b[0m\u001b[0;34m\u001b[0m\u001b[0;34m\u001b[0m\u001b[0m\n\u001b[0m\u001b[1;32m    507\u001b[0m         \u001b[0;32melif\u001b[0m \u001b[0mindexing_dispatch_code\u001b[0m \u001b[0;34m==\u001b[0m \u001b[0m_NDARRAY_ADVANCED_INDEXING\u001b[0m\u001b[0;34m:\u001b[0m\u001b[0;34m\u001b[0m\u001b[0;34m\u001b[0m\u001b[0m\n\u001b[1;32m    508\u001b[0m             \u001b[0;32mreturn\u001b[0m \u001b[0mself\u001b[0m\u001b[0;34m.\u001b[0m\u001b[0m_get_nd_advanced_indexing\u001b[0m\u001b[0;34m(\u001b[0m\u001b[0mkey\u001b[0m\u001b[0;34m)\u001b[0m\u001b[0;34m\u001b[0m\u001b[0;34m\u001b[0m\u001b[0m\n",
      "\u001b[0;32m/opt/venv/lib/python3.6/site-packages/mxnet/ndarray/ndarray.py\u001b[0m in \u001b[0;36m_get_nd_basic_indexing\u001b[0;34m(self, key)\u001b[0m\n\u001b[1;32m    772\u001b[0m         \"\"\"This function is called when key is a slice, or an integer,\n\u001b[1;32m    773\u001b[0m         or a tuple of slices or integers\"\"\"\n\u001b[0;32m--> 774\u001b[0;31m         \u001b[0mshape\u001b[0m \u001b[0;34m=\u001b[0m \u001b[0mself\u001b[0m\u001b[0;34m.\u001b[0m\u001b[0mshape\u001b[0m\u001b[0;34m\u001b[0m\u001b[0;34m\u001b[0m\u001b[0m\n\u001b[0m\u001b[1;32m    775\u001b[0m         \u001b[0;32mif\u001b[0m \u001b[0misinstance\u001b[0m\u001b[0;34m(\u001b[0m\u001b[0mkey\u001b[0m\u001b[0;34m,\u001b[0m \u001b[0minteger_types\u001b[0m\u001b[0;34m)\u001b[0m\u001b[0;34m:\u001b[0m\u001b[0;34m\u001b[0m\u001b[0;34m\u001b[0m\u001b[0m\n\u001b[1;32m    776\u001b[0m             \u001b[0;32mif\u001b[0m \u001b[0mkey\u001b[0m \u001b[0;34m>\u001b[0m \u001b[0mshape\u001b[0m\u001b[0;34m[\u001b[0m\u001b[0;36m0\u001b[0m\u001b[0;34m]\u001b[0m \u001b[0;34m-\u001b[0m \u001b[0;36m1\u001b[0m\u001b[0;34m:\u001b[0m\u001b[0;34m\u001b[0m\u001b[0;34m\u001b[0m\u001b[0m\n",
      "\u001b[0;32m/opt/venv/lib/python3.6/site-packages/mxnet/ndarray/ndarray.py\u001b[0m in \u001b[0;36mshape\u001b[0;34m(self)\u001b[0m\n\u001b[1;32m   1830\u001b[0m         check_call(_LIB.MXNDArrayGetShape(\n\u001b[1;32m   1831\u001b[0m             self.handle, ctypes.byref(ndim), ctypes.byref(pdata)))\n\u001b[0;32m-> 1832\u001b[0;31m         \u001b[0;32mreturn\u001b[0m \u001b[0mtuple\u001b[0m\u001b[0;34m(\u001b[0m\u001b[0mpdata\u001b[0m\u001b[0;34m[\u001b[0m\u001b[0;34m:\u001b[0m\u001b[0mndim\u001b[0m\u001b[0;34m.\u001b[0m\u001b[0mvalue\u001b[0m\u001b[0;34m]\u001b[0m\u001b[0;34m)\u001b[0m \u001b[0;31m# pylint: disable=invalid-slice-index\u001b[0m\u001b[0;34m\u001b[0m\u001b[0;34m\u001b[0m\u001b[0m\n\u001b[0m\u001b[1;32m   1833\u001b[0m \u001b[0;34m\u001b[0m\u001b[0m\n\u001b[1;32m   1834\u001b[0m \u001b[0;34m\u001b[0m\u001b[0m\n",
      "\u001b[0;31mKeyboardInterrupt\u001b[0m: "
     ]
    }
   ],
   "source": [
    "state = env.reset()\n",
    "current_best = -100\n",
    "for frame_idx in trange(1, num_frames + 1):\n",
    "    action = current_model.act(state)\n",
    "   \n",
    "    next_state, reward, done, _ = env.step(action)\n",
    "    replay_buffer.push(state, action, reward, next_state, done)\n",
    "    \n",
    "    state = next_state\n",
    "    episode_reward += reward\n",
    "    \n",
    "    if done:\n",
    "        state = env.reset()\n",
    "        all_rewards.append(episode_reward)\n",
    "        writer.add_scalar(\"reward\", episode_reward, frame_idx)  \n",
    "        mean_reward = np.mean(all_rewards[-100:])\n",
    "        print(\"%d: done %d games, mean reward %.3f, reward %.3f, eps %.2f\" % (\n",
    "                frame_idx, len(all_rewards), mean_reward, episode_reward, epsilon,\n",
    "            ))\n",
    "        if current_best < mean_reward:\n",
    "            print(\"save current best model\")\n",
    "            current_model.save_parameters('./models/double_dqn_best_model')\n",
    "            current_best = mean_reward\n",
    "        episode_reward = 0\n",
    "        writer.add_scalar(\"mean_reward\", mean_reward, frame_idx)  \n",
    "        \n",
    "        \n",
    "    if len(replay_buffer) > replay_initial:\n",
    "        with autograd.record():\n",
    "            loss = compute_td_loss(batch_size, current_model, target_model, num_atoms, ctx)\n",
    "            loss.backward()\n",
    "            current_model.reset_noise()\n",
    "            target_model.reset_noise()\n",
    "        trainer.step(batch_size)\n",
    "        losses.append(loss.sum().asscalar())\n",
    "        writer.add_scalar(\"loss\", loss.mean().asscalar(), frame_idx)   \n",
    "    if frame_idx % 1000 == 0:\n",
    "        print(\"update target model\")\n",
    "        update_target(current_model, target_model)"
   ]
  },
  {
   "cell_type": "code",
   "execution_count": 176,
   "metadata": {},
   "outputs": [
    {
     "data": {
      "text/plain": [
       "array([[ 52,  87,  87, ..., 236, 236, 236],\n",
       "       [ 52,  87,  87, ..., 236, 236, 236],\n",
       "       [ 52,  87,  87, ..., 236, 236, 236],\n",
       "       ...,\n",
       "       [ 87,  87,  87, ..., 236, 236, 236],\n",
       "       [ 87,  87,  87, ..., 236, 236, 236],\n",
       "       [ 87,  87,  87, ..., 236, 236, 236]], dtype=uint8)"
      ]
     },
     "execution_count": 176,
     "metadata": {},
     "output_type": "execute_result"
    }
   ],
   "source": [
    "state[0]"
   ]
  },
  {
   "cell_type": "code",
   "execution_count": 177,
   "metadata": {},
   "outputs": [],
   "source": [
    "import gluoncv"
   ]
  },
  {
   "cell_type": "code",
   "execution_count": 200,
   "metadata": {},
   "outputs": [
    {
     "data": {
      "text/plain": [
       "(84, 84)"
      ]
     },
     "execution_count": 200,
     "metadata": {},
     "output_type": "execute_result"
    }
   ],
   "source": [
    "state[0].shape"
   ]
  },
  {
   "cell_type": "code",
   "execution_count": 190,
   "metadata": {},
   "outputs": [],
   "source": [
    "a = np.expand_dims(state[0], 0)\n",
    "a = np.transpose(a, axes=(1,2,0))"
   ]
  },
  {
   "cell_type": "code",
   "execution_count": 185,
   "metadata": {},
   "outputs": [],
   "source": [
    "%matplotlib inline\n",
    "import matplotlib.pyplot as plt\n",
    "import matplotlib.image as mpimg"
   ]
  },
  {
   "cell_type": "code",
   "execution_count": 202,
   "metadata": {},
   "outputs": [
    {
     "data": {
      "text/plain": [
       "<matplotlib.image.AxesImage at 0x7f08645ad8d0>"
      ]
     },
     "execution_count": 202,
     "metadata": {},
     "output_type": "execute_result"
    },
    {
     "data": {
      "image/png": "[encoded data removed]",
      "text/plain": [
       "<Figure size 432x288 with 1 Axes>"
      ]
     },
     "metadata": {
      "needs_background": "light"
     },
     "output_type": "display_data"
    }
   ],
   "source": [
    "plt.imshow(state[0])"
   ]
  },
  {
   "cell_type": "code",
   "execution_count": null,
   "metadata": {},
   "outputs": [],
   "source": []
  }
 ],
 "metadata": {
  "kernelspec": {
   "display_name": "Python 3",
   "language": "python",
   "name": "python3"
  },
  "language_info": {
   "codemirror_mode": {
    "name": "ipython",
    "version": 3
   },
   "file_extension": ".py",
   "mimetype": "text/x-python",
   "name": "python",
   "nbconvert_exporter": "python",
   "pygments_lexer": "ipython3",
   "version": "3.6.7"
  }
 },
 "nbformat": 4,
 "nbformat_minor": 2
}
