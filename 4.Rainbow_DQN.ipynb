{
 "cells": [
  {
   "cell_type": "code",
   "execution_count": 1,
   "metadata": {},
   "outputs": [],
   "source": [
    "import math, random\n",
    "\n",
    "import gym\n",
    "import numpy as np\n",
    "\n",
    "import mxnet as mx\n",
    "from mxnet import gluon, autograd, nd\n",
    "from mxnet.gluon import nn\n",
    "\n",
    "from tqdm import tqdm, trange\n",
    "from mxboard import SummaryWriter"
   ]
  },
  {
   "cell_type": "code",
   "execution_count": 123,
   "metadata": {},
   "outputs": [],
   "source": [
    "from collections import deque\n",
    "\n",
    "class ReplayBuffer(object):\n",
    "    def __init__(self, capacity):\n",
    "        self.buffer = deque(maxlen=capacity)\n",
    "    \n",
    "    def push(self, state, action, reward, next_state, done):\n",
    "        state      = np.expand_dims(state, 0)\n",
    "        next_state = np.expand_dims(next_state, 0)\n",
    "            \n",
    "        self.buffer.append((state, action, reward, next_state, done))\n",
    "    \n",
    "    def sample(self, batch_size):\n",
    "        state, action, reward, next_state, done = zip(*random.sample(self.buffer, batch_size))\n",
    "        return np.concatenate(state), action, reward, np.concatenate(next_state), done\n",
    "    \n",
    "    def __len__(self):\n",
    "        return len(self.buffer)"
   ]
  },
  {
   "cell_type": "code",
   "execution_count": 2,
   "metadata": {},
   "outputs": [],
   "source": [
    "def ger(x1, x2):\n",
    "    result = list()\n",
    "    for i in range(x2.shape[0]):      \n",
    "        tmp = (x1 * x2[i])\n",
    "        result.append(tmp)\n",
    "    return nd.stack(*result).T"
   ]
  },
  {
   "cell_type": "code",
   "execution_count": 3,
   "metadata": {},
   "outputs": [],
   "source": [
    "ctx=mx.gpu()"
   ]
  },
  {
   "cell_type": "code",
   "execution_count": 4,
   "metadata": {},
   "outputs": [],
   "source": [
    "from wrappers import make_atari, wrap_deepmind, wrap_mxnet"
   ]
  },
  {
   "cell_type": "code",
   "execution_count": 5,
   "metadata": {},
   "outputs": [],
   "source": [
    "env_id = \"PongNoFrameskip-v4\"\n",
    "env    = make_atari(env_id)\n",
    "env    = wrap_deepmind(env, frame_stack=True)\n",
    "env    = wrap_mxnet(env)"
   ]
  },
  {
   "cell_type": "code",
   "execution_count": 14,
   "metadata": {},
   "outputs": [],
   "source": [
    "class NoiseLayer(nn.Block):\n",
    "    def __init__(self, in_features, out_features, ctx, std_init=0.4, mode='trainig', **kwargs):\n",
    "        super(NoiseLayer, self).__init__(**kwargs)\n",
    "        self.in_features = in_features\n",
    "        self.out_features = out_features\n",
    "        self.std_init = std_init\n",
    "        self.mode = mode\n",
    "        self.ctx=ctx\n",
    "        \n",
    "        \n",
    "        with self.name_scope():\n",
    "            self.weight_mu = self.params.get('weight_mu', shape=(out_features, in_features))\n",
    "            self.weight_sigma = self.params.get('weight_sigma', shape=(out_features, in_features))\n",
    "            self.weight_epsilon = self.params.get('weight_epsilon', shape=(out_features, in_features), grad_req='null')\n",
    "        \n",
    "            self.bias_mu = self.params.get('bias_mu', shape=(out_features))\n",
    "            self.bias_sigma = self.params.get('bias_sigma', shape=(out_features))\n",
    "            self.bias_epsilon = self.params.get('bias_epsilon', shape=(out_features), grad_req='null')\n",
    "        self.initiali_idx = 0\n",
    "    \n",
    "    def reset_parameters(self):\n",
    "        mu_range = 1 / math.sqrt(self.weight_mu.shape[1])\n",
    "        _weight_mu = mx.random.uniform(-mu_range, mu_range, shape=self.weight_mu.shape, ctx=self.ctx)\n",
    "        self._weight_mu = _weight_mu\n",
    "#         self.params.setattr('.*weight_mu', _weight_mu)\n",
    "        with autograd.pause():\n",
    "            self.weight_mu.set_data(_weight_mu)\n",
    "        _weight_sigma = nd.zeros(shape=self.weight_sigma.shape, ctx=self.ctx)\n",
    "        _weight_sigma += self.std_init / math.sqrt(self.weight_sigma.shape[1])\n",
    "#         self.params.setattr('weight_sigma', _weight_sigma)\n",
    "        with autograd.pause():\n",
    "            self.weight_sigma.set_data(_weight_sigma)\n",
    "        \n",
    "        _bias_mu = mx.random.uniform(-mu_range, mu_range, shape=self.bias_mu.shape, ctx=self.ctx)\n",
    "        self.params.setattr('bias_mu', _bias_mu)\n",
    "        with autograd.pause():\n",
    "            self.bias_mu.set_data(_bias_mu)\n",
    "        _bias_sigma = nd.zeros(shape=self.bias_sigma.shape, ctx=self.ctx)\n",
    "        _bias_sigma += self.std_init / math.sqrt(self.bias_sigma.shape[0])\n",
    "#         self.params.setattr('bias_sigma', _bias_sigma)\n",
    "        with autograd.pause():\n",
    "            self.bias_sigma.set_data(_bias_sigma)\n",
    "    \n",
    "    def reset(self):\n",
    "        self.reset_noise()\n",
    "        self.reset_parameters()\n",
    "        \n",
    "    \n",
    "    def reset_noise(self):\n",
    "        epsilon_in = self._scale_noise(self.in_features)\n",
    "        epsilon_out = self._scale_noise(self.out_features)\n",
    "        \n",
    "        _weight_epsilon = ger(epsilon_out, epsilon_in)\n",
    "        self.params.setattr('weight_epsilon', _weight_epsilon)\n",
    "        with autograd.pause():\n",
    "            self.weight_epsilon.set_data(_weight_epsilon)\n",
    "        _bias_epsilon = self._scale_noise(self.out_features)\n",
    "        self.params.setattr('bias_epsilon', _bias_epsilon)\n",
    "        with autograd.pause():\n",
    "            self.bias_epsilon.set_data(_bias_epsilon)\n",
    "    \n",
    "    def _scale_noise(self, size):\n",
    "        x = nd.random_normal(shape=size)\n",
    "        x = nd.multiply(x.sign(), x.abs().sqrt())\n",
    "        return x\n",
    "        \n",
    "    \n",
    "    def forward(self, x):\n",
    "#         if self.initiali_idx ==0:\n",
    "#             self.reset_noise()\n",
    "#             self.reset_parameters()\n",
    "#             self.initiali_idx +=1\n",
    "        with x.context:\n",
    "            if self.mode == 'trainig':\n",
    "                weight = self.weight_mu.data(self.ctx) + nd.multiply(self.weight_sigma.data(self.ctx), self.weight_epsilon.data(self.ctx))\n",
    "                bias = self.bias_mu.data() +nd.multiply(self.bias_sigma.data(self.ctx), self.bias_epsilon.data(self.ctx))\n",
    "            else:\n",
    "                weight = self.weight_mu.data(self.ctx)\n",
    "                bias = self.bias_mu.data(self.ctx)\n",
    "            out = nd.FullyConnected(x, weight, bias, num_hidden=weight.shape[0])\n",
    "        return out"
   ]
  },
  {
   "cell_type": "code",
   "execution_count": 85,
   "metadata": {},
   "outputs": [],
   "source": [
    "class RainbowDQN(nn.Block):\n",
    "    def __init__(self, input_shape, num_actions, num_atoms, Vmin, Vmax, ctx, **kwargs):\n",
    "        super(RainbowDQN, self).__init__(**kwargs)\n",
    "        \n",
    "        self.input_shape = input_shape\n",
    "        self.num_actions = num_actions\n",
    "        self.num_atoms = num_atoms\n",
    "        self.Vmin = Vmin\n",
    "        self.Vmax = Vmax\n",
    "        self.ctx = ctx\n",
    "        \n",
    "        with self.name_scope():\n",
    "            self.conv1 = nn.Conv2D(32, 8, 4, in_channels=input_shape[0])\n",
    "            self.bn1 = nn.BatchNorm()\n",
    "            self.conv2 = nn.Conv2D(64, 4, 2, in_channels=32)\n",
    "            self.bn2 = nn.BatchNorm()\n",
    "            self.conv3 = nn.Conv2D(64, 3, 1, in_channels=64)\n",
    "            self.bn3 = nn.BatchNorm()\n",
    "            \n",
    "            self.noisy_value1 = NoiseLayer(3136, 512, ctx)\n",
    "            self.noisy_value2 = NoiseLayer(512, self.num_atoms, ctx)\n",
    "            \n",
    "            self.noisy_value_adv1 = NoiseLayer(3136, 512, ctx)\n",
    "            self.noisy_value_adv2 = NoiseLayer(512, self.num_atoms * self.num_actions, ctx)\n",
    "        \n",
    "    \n",
    "    def forward(self, x):\n",
    "        batch_size = x.shape[0]\n",
    "        self.noisy_value1.reset()\n",
    "        self.noisy_value2.reset()\n",
    "        self.noisy_value_adv1.reset()\n",
    "        self.noisy_value_adv2.reset()\n",
    "        \n",
    "        \n",
    "        x = x /255.0\n",
    "        x = self.conv1(x)\n",
    "        x = self.bn1(x)\n",
    "        x = nd.relu(x)\n",
    "        x = self.conv2(x)\n",
    "        x = self.bn2(x)\n",
    "        x = nd.relu(x)\n",
    "        x = self.conv3(x)\n",
    "        x = self.bn3(x)\n",
    "        x = nd.relu(x)\n",
    "        x = x.reshape(batch_size, -1)\n",
    "        \n",
    "        value = nd.relu(self.noisy_value1(x))\n",
    "        value = self.noisy_value2(value)\n",
    "        \n",
    "        adv = nd.relu(self.noisy_value_adv1(x))\n",
    "        adv = self.noisy_value_adv2(adv)\n",
    "  \n",
    "        value = value.reshape(batch_size, 1, self.num_atoms)\n",
    "        adv = adv.reshape(batch_size, self.num_actions, self.num_atoms)\n",
    "        \n",
    "        out = value + adv - nd.mean(adv, axis=1, keepdims=True)\n",
    "        out = nd.softmax(out.reshape(-1, self.num_atoms)).reshape(-1, self.num_actions, self.num_atoms)\n",
    "        return out\n",
    "    \n",
    "    def reset_noise(self):\n",
    "        self.noisy_value1.reset_noise()\n",
    "        self.noisy_value2.reset_noise()\n",
    "        self.noisy_value_adv1.reset_noise()\n",
    "        self.noisy_value_adv2.reset_noise()\n",
    "    \n",
    "    def act(self, state):\n",
    "        state = nd.array(np.float32(state), ctx=ctx).expand_dims(0)\n",
    "        dist = self.forward(state)\n",
    "        dist = dist * nd.array(np.linspace(self.Vmin, self.Vmax, self.num_atoms), ctx=self.ctx)\n",
    "        action = nd.argmax(dist.sum(2),1).asnumpy()[0]\n",
    "        return action"
   ]
  },
  {
   "cell_type": "code",
   "execution_count": 572,
   "metadata": {},
   "outputs": [],
   "source": [
    "def proj_distribution(next_state, reward, dones, target_model, num_atoms, ctx):\n",
    "    batch_size = next_state.shape[0]\n",
    "    \n",
    "    delta_z = float(Vmax - Vmin) / (num_atoms - 1)\n",
    "    support = nd.array(np.linspace(Vmin, Vmax, num_atoms), ctx=self.ctx)\n",
    "    \n",
    "    next_dist = target_model(next_state) * support\n",
    "    next_action = nd.argmax(next_dist.sum(2),1)\n",
    "    \n",
    "    action_tmp = nd.stack(nd.arange(next_action.shape[0], ctx=ctx).expand_dims(-1),next_action.expand_dims(-1), axis=0)\n",
    "    next_dist = nd.gather_nd(next_dist, action_tmp)\n",
    "    next_dist = next_dist.squeeze()\n",
    "    \n",
    "    reward = nd.repeat(reward.expand_dims(1), axis=1, repeats=next_dist.shape[-1])\n",
    "    dones = nd.repeat(dones.expand_dims(1), axis=1, repeats=next_dist.shape[-1])\n",
    "    support = nd.repeat(nd.expand_dims(support,0), axis=0, repeats=next_dist.shape[0])\n",
    "    \n",
    "    Tz = reward + (1 - done) * 0.99 * support\n",
    "    Tz = nd.clip(Tz, a_min=Vmin, a_max=Vmax)\n",
    "    b  = (Tz - Vmin) / delta_z\n",
    "    l = b.floor()\n",
    "    u = b.ceil()\n",
    "    \n",
    "    offset = nd.expand_dims(nd.array(np.linspace(0, (batch_size - 1) * num_atoms, batch_size), ctx=ctx), 1)\n",
    "    offset = nd.repeat(offset,repeats=51, axis=1)\n",
    "    \n",
    "    proj_dist = np.zeros(next_dist.shape) \n",
    "    index = (l + offset).reshape(-1).asnumpy()\n",
    "    index = index.astype(int)\n",
    "    value = (next_dist * (u - b)).reshape(-1).asnumpy()\n",
    "    np.put(proj_dist.reshape(-1), index, value)\n",
    "    \n",
    "    index = (u + offset).reshape(-1).asnumpy()\n",
    "    index = index.astype(int)\n",
    "    value = (next_dist * (b - l)).reshape(-1).asnumpy()\n",
    "    np.put(proj_dist.reshape(-1), index, value)\n",
    "    proj_dist = nd.array(proj_dist, ctx=ctx)\n",
    "\n",
    "    return proj_dist"
   ]
  },
  {
   "cell_type": "code",
   "execution_count": null,
   "metadata": {},
   "outputs": [],
   "source": [
    "def compute_td_loss(batch_size, current_model, target_model, loss_fn, ctx):\n",
    "    state, action, reward, next_state, done = replay_buffer.sample(batch_size)\n",
    "\n",
    "    state      = nd.array((np.float32(state)), ctx=ctx)\n",
    "    next_state = nd.array(np.float32(next_state), ctx=ctx)\n",
    "    action     = nd.array((action), ctx=ctx)\n",
    "    reward     = nd.array((reward), ctx=ctx)\n",
    "    done       = nd.array((done), ctx=ctx)\n",
    "   \n",
    "    q_values      = current_model(state)\n",
    "    next_q_values = current_model(next_state)\n",
    "    next_q_state_values = target_model(next_state) \n",
    "    \n",
    "    next_action = nd.argmax(next_q_values,1)\n",
    "    q_values = nd.gather_nd(q_values, nd.stack(nd.arange(action.shape[0], ctx=ctx).expand_dims(-1),action.expand_dims(-1), axis=0))\n",
    "    next_q_value = nd.gather_nd(next_q_state_values, nd.stack(nd.arange(next_action.shape[0], ctx=ctx).expand_dims(-1),\\\n",
    "                                                                  next_action.expand_dims(-1), axis=0))\n",
    "    q_values = q_values.squeeze()\n",
    "    next_q_value = next_q_value.squeeze()\n",
    "    expected_q_value = reward + gamma * next_q_value * (1 - done)\n",
    "    loss = loss_fn(q_values, expected_q_value)\n",
    "        \n",
    "    return loss"
   ]
  },
  {
   "cell_type": "code",
   "execution_count": 507,
   "metadata": {},
   "outputs": [],
   "source": [
    "state, action, reward, next_state, done = replay_buffer.sample(3) "
   ]
  },
  {
   "cell_type": "code",
   "execution_count": 508,
   "metadata": {},
   "outputs": [],
   "source": [
    "    state      = nd.array((np.float32(state)), ctx=ctx)\n",
    "    next_state = nd.array(np.float32(next_state), ctx=ctx)\n",
    "    action     = nd.array((action), ctx=ctx)\n",
    "    reward     = nd.array((reward), ctx=ctx)\n",
    "    done       = nd.array((done), ctx=ctx)"
   ]
  },
  {
   "cell_type": "code",
   "execution_count": 509,
   "metadata": {},
   "outputs": [
    {
     "data": {
      "text/plain": [
       "3"
      ]
     },
     "execution_count": 509,
     "metadata": {},
     "output_type": "execute_result"
    }
   ],
   "source": [
    "batch_size"
   ]
  },
  {
   "cell_type": "code",
   "execution_count": 510,
   "metadata": {},
   "outputs": [],
   "source": [
    "batch_size = next_state.shape[0]\n",
    "    \n",
    "delta_z = float(Vmax - Vmin) / (num_atoms - 1)\n",
    "support = nd.array(np.linspace(Vmin, Vmax, num_atoms), ctx=ctx)"
   ]
  },
  {
   "cell_type": "code",
   "execution_count": 511,
   "metadata": {},
   "outputs": [
    {
     "data": {
      "text/plain": [
       "(3, 4, 84, 84)"
      ]
     },
     "execution_count": 511,
     "metadata": {},
     "output_type": "execute_result"
    }
   ],
   "source": [
    "next_state.shape"
   ]
  },
  {
   "cell_type": "code",
   "execution_count": 512,
   "metadata": {},
   "outputs": [],
   "source": [
    "next_dist = net(nd.array(next_state, ctx=ctx)) * support\n",
    "next_action = nd.argmax(next_dist.sum(2),1)"
   ]
  },
  {
   "cell_type": "code",
   "execution_count": 513,
   "metadata": {},
   "outputs": [
    {
     "data": {
      "text/plain": [
       "\n",
       "[4. 4. 4.]\n",
       "<NDArray 3 @gpu(0)>"
      ]
     },
     "execution_count": 513,
     "metadata": {},
     "output_type": "execute_result"
    }
   ],
   "source": [
    "next_action"
   ]
  },
  {
   "cell_type": "code",
   "execution_count": 514,
   "metadata": {},
   "outputs": [],
   "source": [
    "    action_tmp = nd.stack(nd.arange(next_action.shape[0], ctx=ctx).expand_dims(-1),next_action.expand_dims(-1), axis=0)\n",
    "    next_dist = nd.gather_nd(next_dist, action_tmp)\n",
    "    next_dist = next_dist.squeeze()"
   ]
  },
  {
   "cell_type": "code",
   "execution_count": 515,
   "metadata": {},
   "outputs": [
    {
     "data": {
      "text/plain": [
       "(3, 51)"
      ]
     },
     "execution_count": 515,
     "metadata": {},
     "output_type": "execute_result"
    }
   ],
   "source": [
    "next_dist.shape"
   ]
  },
  {
   "cell_type": "code",
   "execution_count": 516,
   "metadata": {},
   "outputs": [],
   "source": [
    "reward = nd.repeat(reward.expand_dims(1), axis=1, repeats=next_dist.shape[-1])\n",
    "done = nd.repeat(done.expand_dims(1), axis=1, repeats=next_dist.shape[-1])"
   ]
  },
  {
   "cell_type": "code",
   "execution_count": 517,
   "metadata": {},
   "outputs": [],
   "source": [
    "support = nd.repeat(nd.expand_dims(support,0), axis=0, repeats=next_dist.shape[0])"
   ]
  },
  {
   "cell_type": "code",
   "execution_count": 518,
   "metadata": {},
   "outputs": [
    {
     "data": {
      "text/plain": [
       "(3, 51)"
      ]
     },
     "execution_count": 518,
     "metadata": {},
     "output_type": "execute_result"
    }
   ],
   "source": [
    "reward.shape"
   ]
  },
  {
   "cell_type": "code",
   "execution_count": 519,
   "metadata": {},
   "outputs": [
    {
     "data": {
      "text/plain": [
       "(3, 51)"
      ]
     },
     "execution_count": 519,
     "metadata": {},
     "output_type": "execute_result"
    }
   ],
   "source": [
    "done.shape"
   ]
  },
  {
   "cell_type": "code",
   "execution_count": 520,
   "metadata": {},
   "outputs": [
    {
     "data": {
      "text/plain": [
       "(3, 51)"
      ]
     },
     "execution_count": 520,
     "metadata": {},
     "output_type": "execute_result"
    }
   ],
   "source": [
    "support.shape"
   ]
  },
  {
   "cell_type": "code",
   "execution_count": 521,
   "metadata": {},
   "outputs": [],
   "source": [
    "Tz = reward + (1 - done) * 0.99 * support"
   ]
  },
  {
   "cell_type": "code",
   "execution_count": 522,
   "metadata": {},
   "outputs": [],
   "source": [
    "Tz = nd.clip(Tz, a_min=Vmin, a_max=Vmax)"
   ]
  },
  {
   "cell_type": "code",
   "execution_count": 523,
   "metadata": {},
   "outputs": [],
   "source": [
    "b  = (Tz - Vmin) / delta_z\n",
    "l = b.floor()\n",
    "u = b.ceil()"
   ]
  },
  {
   "cell_type": "code",
   "execution_count": 524,
   "metadata": {},
   "outputs": [],
   "source": [
    "offset = nd.expand_dims(nd.array(np.linspace(0, (batch_size - 1) * num_atoms, batch_size), ctx=ctx), 1)"
   ]
  },
  {
   "cell_type": "code",
   "execution_count": 526,
   "metadata": {},
   "outputs": [],
   "source": [
    "offset = nd.repeat(offset,repeats=51, axis=1)"
   ]
  },
  {
   "cell_type": "code",
   "execution_count": 564,
   "metadata": {},
   "outputs": [],
   "source": [
    "proj_dist = np.zeros(next_dist.shape)  "
   ]
  },
  {
   "cell_type": "code",
   "execution_count": 565,
   "metadata": {},
   "outputs": [
    {
     "data": {
      "text/plain": [
       "(3, 51)"
      ]
     },
     "execution_count": 565,
     "metadata": {},
     "output_type": "execute_result"
    }
   ],
   "source": [
    "proj_dist.shape"
   ]
  },
  {
   "cell_type": "code",
   "execution_count": 566,
   "metadata": {},
   "outputs": [],
   "source": [
    "index = (l + offset).reshape(-1).asnumpy()\n",
    "index = index.astype(int)"
   ]
  },
  {
   "cell_type": "code",
   "execution_count": 567,
   "metadata": {},
   "outputs": [],
   "source": [
    "value = (next_dist * (u - b)).reshape(-1).asnumpy()"
   ]
  },
  {
   "cell_type": "code",
   "execution_count": 568,
   "metadata": {},
   "outputs": [],
   "source": [
    "np.put(proj_dist.reshape(-1), index, value)"
   ]
  },
  {
   "cell_type": "code",
   "execution_count": 569,
   "metadata": {},
   "outputs": [],
   "source": [
    "index = (u + offset).reshape(-1).asnumpy()\n",
    "index = index.astype(int)\n",
    "value = (next_dist * (b - l)).reshape(-1).asnumpy()"
   ]
  },
  {
   "cell_type": "code",
   "execution_count": 570,
   "metadata": {},
   "outputs": [],
   "source": [
    "np.put(proj_dist.reshape(-1), index, value)"
   ]
  },
  {
   "cell_type": "code",
   "execution_count": 571,
   "metadata": {},
   "outputs": [
    {
     "data": {
      "text/plain": [
       "array([[-0.1427325 , -0.04757774, -0.04118025, -0.0368303 , -0.03808421,\n",
       "        -0.02929653, -0.02871083, -0.02964238, -0.02361904, -0.02395556,\n",
       "        -0.018809  , -0.0177003 , -0.013663  , -0.01415718, -0.01149903,\n",
       "        -0.00924269, -0.00756872, -0.00629589, -0.00516141, -0.00413557,\n",
       "        -0.00298855, -0.00205739, -0.00134245, -0.0006875 , -0.00030758,\n",
       "         0.        ,  0.00868624,  0.01657625,  0.02186595,  0.0273362 ,\n",
       "         0.0374762 ,  0.04330807,  0.05161782,  0.06513779,  0.05527223,\n",
       "         0.07028253,  0.07834616,  0.0876225 ,  0.09846728,  0.09592575,\n",
       "         0.10465291,  0.09772366,  0.10961386,  0.11379286,  0.12091429,\n",
       "         0.12848528,  0.13614564,  0.1392462 ,  0.14301001,  0.1323646 ,\n",
       "         0.14848903],\n",
       "       [-0.14273714, -0.04757929, -0.04121738, -0.03676648, -0.03803771,\n",
       "        -0.02936137, -0.02872591, -0.02958586, -0.0236678 , -0.02397388,\n",
       "        -0.01877357, -0.0177041 , -0.01368735, -0.01414644, -0.01149197,\n",
       "        -0.009237  , -0.00757376, -0.00630651, -0.00516291, -0.00412616,\n",
       "        -0.00298995, -0.00205579, -0.0013422 , -0.00068641, -0.00030809,\n",
       "         0.        ,  0.00869769,  0.01659622,  0.02181996,  0.02732895,\n",
       "         0.03748854,  0.04332925,  0.0516455 ,  0.06515109,  0.05538867,\n",
       "         0.0703844 ,  0.07856068,  0.08757922,  0.09833384,  0.09582134,\n",
       "         0.1044346 ,  0.09778743,  0.10965228,  0.11385804,  0.12074948,\n",
       "         0.12842616,  0.13622569,  0.13936034,  0.14327581,  0.13217713,\n",
       "         0.1484254 ],\n",
       "       [-0.14259084, -0.04753052, -0.04117868, -0.03677395, -0.03805172,\n",
       "        -0.02932899, -0.02872772, -0.02959175, -0.02364564, -0.02395059,\n",
       "        -0.01878368, -0.01771461, -0.01368151, -0.01414255, -0.01149328,\n",
       "        -0.00924991, -0.00757087, -0.00630421, -0.00516483, -0.00412269,\n",
       "        -0.0029906 , -0.00205889, -0.0013423 , -0.00068628, -0.000308  ,\n",
       "         0.        ,  0.00868655,  0.01660237,  0.02180859,  0.02738901,\n",
       "         0.03751073,  0.04335394,  0.05172227,  0.06514747,  0.05533566,\n",
       "         0.07037101,  0.07858387,  0.08750455,  0.09832951,  0.0958447 ,\n",
       "         0.10449167,  0.09784465,  0.10958378,  0.11383585,  0.12073936,\n",
       "         0.12836128,  0.13622099,  0.1393522 ,  0.14328991,  0.13193038,\n",
       "         0.14851616]])"
      ]
     },
     "execution_count": 571,
     "metadata": {},
     "output_type": "execute_result"
    }
   ],
   "source": [
    "proj_dist"
   ]
  },
  {
   "cell_type": "code",
   "execution_count": 465,
   "metadata": {},
   "outputs": [
    {
     "ename": "AttributeError",
     "evalue": "'Tensor' object has no attribute 'asnumpy'",
     "output_type": "error",
     "traceback": [
      "\u001b[0;31m---------------------------------------------------------------------------\u001b[0m",
      "\u001b[0;31mAttributeError\u001b[0m                            Traceback (most recent call last)",
      "\u001b[0;32m<ipython-input-465-e82e6be37d5c>\u001b[0m in \u001b[0;36m<module>\u001b[0;34m\u001b[0m\n\u001b[0;32m----> 1\u001b[0;31m \u001b[0ml\u001b[0m \u001b[0;34m=\u001b[0m \u001b[0mtorch\u001b[0m\u001b[0;34m.\u001b[0m\u001b[0mfrom_numpy\u001b[0m\u001b[0;34m(\u001b[0m\u001b[0ml\u001b[0m\u001b[0;34m.\u001b[0m\u001b[0masnumpy\u001b[0m\u001b[0;34m(\u001b[0m\u001b[0;34m)\u001b[0m\u001b[0;34m)\u001b[0m\u001b[0;34m\u001b[0m\u001b[0m\n\u001b[0m\u001b[1;32m      2\u001b[0m \u001b[0mu\u001b[0m \u001b[0;34m=\u001b[0m \u001b[0mtorch\u001b[0m\u001b[0;34m.\u001b[0m\u001b[0mfrom_numpy\u001b[0m\u001b[0;34m(\u001b[0m\u001b[0mu\u001b[0m\u001b[0;34m.\u001b[0m\u001b[0masnumpy\u001b[0m\u001b[0;34m(\u001b[0m\u001b[0;34m)\u001b[0m\u001b[0;34m)\u001b[0m\u001b[0;34m\u001b[0m\u001b[0m\n\u001b[1;32m      3\u001b[0m \u001b[0mb\u001b[0m \u001b[0;34m=\u001b[0m \u001b[0mtorch\u001b[0m\u001b[0;34m.\u001b[0m\u001b[0mfrom_numpy\u001b[0m\u001b[0;34m(\u001b[0m\u001b[0mb\u001b[0m\u001b[0;34m.\u001b[0m\u001b[0masnumpy\u001b[0m\u001b[0;34m(\u001b[0m\u001b[0;34m)\u001b[0m\u001b[0;34m)\u001b[0m\u001b[0;34m\u001b[0m\u001b[0m\n\u001b[1;32m      4\u001b[0m \u001b[0moffset\u001b[0m \u001b[0;34m=\u001b[0m \u001b[0mtorch\u001b[0m\u001b[0;34m.\u001b[0m\u001b[0mfrom_numpy\u001b[0m\u001b[0;34m(\u001b[0m\u001b[0moffset\u001b[0m\u001b[0;34m.\u001b[0m\u001b[0masnumpy\u001b[0m\u001b[0;34m(\u001b[0m\u001b[0;34m)\u001b[0m\u001b[0;34m)\u001b[0m\u001b[0;34m\u001b[0m\u001b[0m\n",
      "\u001b[0;31mAttributeError\u001b[0m: 'Tensor' object has no attribute 'asnumpy'"
     ]
    }
   ],
   "source": [
    "l = torch.from_numpy(l.asnumpy())\n",
    "u = torch.from_numpy(u.asnumpy())\n",
    "b = torch.from_numpy(b.asnumpy())\n",
    "offset = torch.from_numpy(offset.asnumpy())"
   ]
  },
  {
   "cell_type": "code",
   "execution_count": 452,
   "metadata": {},
   "outputs": [],
   "source": [
    "offset = torch.linspace(0, (batch_size - 1) * num_atoms, batch_size)\\\n",
    "                    .unsqueeze(1).expand(batch_size, num_atoms)"
   ]
  },
  {
   "cell_type": "code",
   "execution_count": 453,
   "metadata": {},
   "outputs": [
    {
     "ename": "AttributeError",
     "evalue": "'Tensor' object has no attribute 'asnumpy'",
     "output_type": "error",
     "traceback": [
      "\u001b[0;31m---------------------------------------------------------------------------\u001b[0m",
      "\u001b[0;31mAttributeError\u001b[0m                            Traceback (most recent call last)",
      "\u001b[0;32m<ipython-input-453-faee05578fbb>\u001b[0m in \u001b[0;36m<module>\u001b[0;34m\u001b[0m\n\u001b[0;32m----> 1\u001b[0;31m \u001b[0mnext_dist\u001b[0m \u001b[0;34m=\u001b[0m \u001b[0mtorch\u001b[0m\u001b[0;34m.\u001b[0m\u001b[0mfrom_numpy\u001b[0m\u001b[0;34m(\u001b[0m\u001b[0mnext_dist\u001b[0m\u001b[0;34m.\u001b[0m\u001b[0masnumpy\u001b[0m\u001b[0;34m(\u001b[0m\u001b[0;34m)\u001b[0m\u001b[0;34m)\u001b[0m\u001b[0;34m\u001b[0m\u001b[0m\n\u001b[0m",
      "\u001b[0;31mAttributeError\u001b[0m: 'Tensor' object has no attribute 'asnumpy'"
     ]
    }
   ],
   "source": [
    "next_dist = torch.from_numpy(next_dist.asnumpy())"
   ]
  },
  {
   "cell_type": "code",
   "execution_count": 455,
   "metadata": {},
   "outputs": [
    {
     "data": {
      "text/plain": [
       "tensor([  0,   1,   2,   3,   4,   5,   6,   7,   8,   9,  10,  11,  12,  13,\n",
       "         14,  15,  16,  17,  18,  19,  20,  21,  22,  23,  24,  25,  25,  26,\n",
       "         27,  28,  29,  30,  31,  32,  33,  34,  35,  36,  37,  38,  39,  40,\n",
       "         41,  42,  43,  44,  45,  46,  47,  48,  49,  51,  52,  53,  54,  55,\n",
       "         56,  57,  58,  59,  60,  61,  62,  63,  64,  65,  66,  67,  68,  69,\n",
       "         70,  71,  72,  73,  74,  75,  76,  76,  77,  78,  79,  80,  81,  82,\n",
       "         83,  84,  85,  86,  87,  88,  89,  90,  91,  92,  93,  94,  95,  96,\n",
       "         97,  98,  99, 100, 102, 103, 104, 105, 106, 107, 108, 109, 110, 111,\n",
       "        112, 113, 114, 115, 116, 117, 118, 119, 120, 121, 122, 123, 124, 125,\n",
       "        126, 127, 127, 128, 129, 130, 131, 132, 133, 134, 135, 136, 137, 138,\n",
       "        139, 140, 141, 142, 143, 144, 145, 146, 147, 148, 149, 150, 151])"
      ]
     },
     "execution_count": 455,
     "metadata": {},
     "output_type": "execute_result"
    }
   ],
   "source": [
    "(l + offset).view(-1).long()"
   ]
  },
  {
   "cell_type": "code",
   "execution_count": 464,
   "metadata": {},
   "outputs": [
    {
     "ename": "TypeError",
     "evalue": "sub() received an invalid combination of arguments - got (numpy.ndarray), but expected one of:\n * (Tensor other, Number alpha)\n * (Number other, Number alpha)\n",
     "output_type": "error",
     "traceback": [
      "\u001b[0;31m---------------------------------------------------------------------------\u001b[0m",
      "\u001b[0;31mTypeError\u001b[0m                                 Traceback (most recent call last)",
      "\u001b[0;32m<ipython-input-464-fc4e4bf25650>\u001b[0m in \u001b[0;36m<module>\u001b[0;34m\u001b[0m\n\u001b[1;32m      1\u001b[0m \u001b[0mproj_dist\u001b[0m \u001b[0;34m=\u001b[0m \u001b[0mtorch\u001b[0m\u001b[0;34m.\u001b[0m\u001b[0mzeros\u001b[0m\u001b[0;34m(\u001b[0m\u001b[0mnext_dist\u001b[0m\u001b[0;34m.\u001b[0m\u001b[0mshape\u001b[0m\u001b[0;34m)\u001b[0m\u001b[0;34m\u001b[0m\u001b[0m\n\u001b[0;32m----> 2\u001b[0;31m \u001b[0mproj_dist\u001b[0m\u001b[0;34m.\u001b[0m\u001b[0mview\u001b[0m\u001b[0;34m(\u001b[0m\u001b[0;34m-\u001b[0m\u001b[0;36m1\u001b[0m\u001b[0;34m)\u001b[0m\u001b[0;34m.\u001b[0m\u001b[0mindex_add_\u001b[0m\u001b[0;34m(\u001b[0m\u001b[0;36m0\u001b[0m\u001b[0;34m,\u001b[0m \u001b[0;34m(\u001b[0m\u001b[0ml\u001b[0m \u001b[0;34m+\u001b[0m \u001b[0moffset\u001b[0m\u001b[0;34m)\u001b[0m\u001b[0;34m.\u001b[0m\u001b[0mview\u001b[0m\u001b[0;34m(\u001b[0m\u001b[0;34m-\u001b[0m\u001b[0;36m1\u001b[0m\u001b[0;34m)\u001b[0m\u001b[0;34m.\u001b[0m\u001b[0mlong\u001b[0m\u001b[0;34m(\u001b[0m\u001b[0;34m)\u001b[0m\u001b[0;34m,\u001b[0m \u001b[0;34m(\u001b[0m\u001b[0mnext_dist\u001b[0m \u001b[0;34m*\u001b[0m \u001b[0;34m(\u001b[0m\u001b[0mu\u001b[0m\u001b[0;34m.\u001b[0m\u001b[0mfloat\u001b[0m\u001b[0;34m(\u001b[0m\u001b[0;34m)\u001b[0m \u001b[0;34m-\u001b[0m \u001b[0mb\u001b[0m\u001b[0;34m)\u001b[0m\u001b[0;34m)\u001b[0m\u001b[0;34m.\u001b[0m\u001b[0mview\u001b[0m\u001b[0;34m(\u001b[0m\u001b[0;34m-\u001b[0m\u001b[0;36m1\u001b[0m\u001b[0;34m)\u001b[0m\u001b[0;34m)\u001b[0m\u001b[0;34m\u001b[0m\u001b[0m\n\u001b[0m\u001b[1;32m      3\u001b[0m \u001b[0mproj_dist\u001b[0m\u001b[0;34m.\u001b[0m\u001b[0mview\u001b[0m\u001b[0;34m(\u001b[0m\u001b[0;34m-\u001b[0m\u001b[0;36m1\u001b[0m\u001b[0;34m)\u001b[0m\u001b[0;34m.\u001b[0m\u001b[0mindex_add_\u001b[0m\u001b[0;34m(\u001b[0m\u001b[0;36m0\u001b[0m\u001b[0;34m,\u001b[0m \u001b[0;34m(\u001b[0m\u001b[0mu\u001b[0m \u001b[0;34m+\u001b[0m \u001b[0moffset\u001b[0m\u001b[0;34m)\u001b[0m\u001b[0;34m.\u001b[0m\u001b[0mview\u001b[0m\u001b[0;34m(\u001b[0m\u001b[0;34m-\u001b[0m\u001b[0;36m1\u001b[0m\u001b[0;34m)\u001b[0m\u001b[0;34m.\u001b[0m\u001b[0mlong\u001b[0m\u001b[0;34m(\u001b[0m\u001b[0;34m)\u001b[0m\u001b[0;34m,\u001b[0m \u001b[0;34m(\u001b[0m\u001b[0mnext_dist\u001b[0m \u001b[0;34m*\u001b[0m \u001b[0;34m(\u001b[0m\u001b[0mb\u001b[0m \u001b[0;34m-\u001b[0m \u001b[0ml\u001b[0m\u001b[0;34m.\u001b[0m\u001b[0mfloat\u001b[0m\u001b[0;34m(\u001b[0m\u001b[0;34m)\u001b[0m\u001b[0;34m)\u001b[0m\u001b[0;34m)\u001b[0m\u001b[0;34m.\u001b[0m\u001b[0mview\u001b[0m\u001b[0;34m(\u001b[0m\u001b[0;34m-\u001b[0m\u001b[0;36m1\u001b[0m\u001b[0;34m)\u001b[0m\u001b[0;34m)\u001b[0m\u001b[0;34m\u001b[0m\u001b[0m\n",
      "\u001b[0;31mTypeError\u001b[0m: sub() received an invalid combination of arguments - got (numpy.ndarray), but expected one of:\n * (Tensor other, Number alpha)\n * (Number other, Number alpha)\n"
     ]
    }
   ],
   "source": [
    "    proj_dist = torch.zeros(next_dist.shape)    \n",
    "    proj_dist.view(-1).index_add_(0, (l + offset).view(-1).long(), (next_dist * (u.float() - b)).view(-1))\n",
    "    proj_dist.view(-1).index_add_(0, (u + offset).view(-1).long(), (next_dist * (b - l.float())).view(-1))"
   ]
  },
  {
   "cell_type": "code",
   "execution_count": 443,
   "metadata": {},
   "outputs": [
    {
     "ename": "TypeError",
     "evalue": "sub() received an invalid combination of arguments - got (numpy.ndarray), but expected one of:\n * (Tensor other, Number alpha)\n * (Number other, Number alpha)\n",
     "output_type": "error",
     "traceback": [
      "\u001b[0;31m---------------------------------------------------------------------------\u001b[0m",
      "\u001b[0;31mTypeError\u001b[0m                                 Traceback (most recent call last)",
      "\u001b[0;32m<ipython-input-443-985c6283a1b5>\u001b[0m in \u001b[0;36m<module>\u001b[0;34m\u001b[0m\n\u001b[0;32m----> 1\u001b[0;31m \u001b[0;34m(\u001b[0m\u001b[0mnext_dist\u001b[0m \u001b[0;34m*\u001b[0m \u001b[0;34m(\u001b[0m\u001b[0mu\u001b[0m\u001b[0;34m.\u001b[0m\u001b[0mfloat\u001b[0m\u001b[0;34m(\u001b[0m\u001b[0;34m)\u001b[0m \u001b[0;34m-\u001b[0m \u001b[0mb\u001b[0m\u001b[0;34m)\u001b[0m\u001b[0;34m)\u001b[0m\u001b[0;34m.\u001b[0m\u001b[0mview\u001b[0m\u001b[0;34m(\u001b[0m\u001b[0;34m-\u001b[0m\u001b[0;36m1\u001b[0m\u001b[0;34m)\u001b[0m\u001b[0;34m\u001b[0m\u001b[0m\n\u001b[0m",
      "\u001b[0;31mTypeError\u001b[0m: sub() received an invalid combination of arguments - got (numpy.ndarray), but expected one of:\n * (Tensor other, Number alpha)\n * (Number other, Number alpha)\n"
     ]
    }
   ],
   "source": [
    "(next_dist * (u.float() - b)).view(-1)"
   ]
  },
  {
   "cell_type": "code",
   "execution_count": 420,
   "metadata": {},
   "outputs": [],
   "source": [
    "proj_dist = torch.zeros(next_dist.shape)"
   ]
  },
  {
   "cell_type": "code",
   "execution_count": 430,
   "metadata": {},
   "outputs": [],
   "source": [
    "aa = proj_dist.view(-1).index_add_(0, (l + offset).view(-1).long(), (next_dist * (u.float() - b)).view(-1))"
   ]
  },
  {
   "cell_type": "code",
   "execution_count": 434,
   "metadata": {},
   "outputs": [
    {
     "data": {
      "text/plain": [
       "tensor([[-0.2833, -0.2513, -0.2806, -0.2768, -0.2520, -0.2558, -0.2061, -0.2520,\n",
       "         -0.2088, -0.1877, -0.2118, -0.2021, -0.1984, -0.1570, -0.1419, -0.1371,\n",
       "         -0.1482, -0.1268, -0.1143, -0.0901, -0.0747, -0.0621, -0.0438, -0.0275,\n",
       "         -0.0157,  0.0002,  0.0007,  0.0014,  0.0025,  0.0038,  0.0060,  0.0079,\n",
       "          0.0106,  0.0121,  0.0159,  0.0212,  0.0237,  0.0225,  0.0311,  0.0367,\n",
       "          0.0386,  0.0417,  0.0591,  0.0558,  0.0641,  0.0616,  0.0801,  0.0865,\n",
       "          0.0859,  0.0886,  0.0000],\n",
       "        [-0.2834, -0.2518, -0.2803, -0.2777, -0.2515, -0.2560, -0.2057, -0.2515,\n",
       "         -0.2083, -0.1877, -0.2122, -0.2025, -0.1990, -0.1573, -0.1420, -0.1373,\n",
       "         -0.1483, -0.1268, -0.1144, -0.0900, -0.0744, -0.0621, -0.0438, -0.0275,\n",
       "         -0.0157,  0.0002,  0.0007,  0.0014,  0.0025,  0.0038,  0.0061,  0.0079,\n",
       "          0.0106,  0.0122,  0.0159,  0.0212,  0.0237,  0.0226,  0.0312,  0.0367,\n",
       "          0.0385,  0.0417,  0.0591,  0.0559,  0.0641,  0.0614,  0.0802,  0.0864,\n",
       "          0.0859,  0.0885,  0.0000],\n",
       "        [-0.2838, -0.2516, -0.2804, -0.2774, -0.2521, -0.2563, -0.2061, -0.2518,\n",
       "         -0.2088, -0.1876, -0.2122, -0.2024, -0.1990, -0.1570, -0.1419, -0.1372,\n",
       "         -0.1485, -0.1268, -0.1144, -0.0900, -0.0745, -0.0620, -0.0438, -0.0276,\n",
       "         -0.0157,  0.0002,  0.0007,  0.0014,  0.0025,  0.0038,  0.0060,  0.0079,\n",
       "          0.0106,  0.0122,  0.0159,  0.0212,  0.0237,  0.0226,  0.0311,  0.0366,\n",
       "          0.0386,  0.0417,  0.0591,  0.0560,  0.0640,  0.0615,  0.0802,  0.0865,\n",
       "          0.0859,  0.0885,  0.0000]])"
      ]
     },
     "execution_count": 434,
     "metadata": {},
     "output_type": "execute_result"
    }
   ],
   "source": [
    "aa.reshape(proj_dist.shape)"
   ]
  },
  {
   "cell_type": "code",
   "execution_count": null,
   "metadata": {},
   "outputs": [],
   "source": [
    "nd."
   ]
  },
  {
   "cell_type": "code",
   "execution_count": 432,
   "metadata": {},
   "outputs": [
    {
     "data": {
      "text/plain": [
       "tensor([[-0.2833, -0.2513, -0.2806, -0.2768, -0.2520, -0.2558, -0.2061, -0.2520,\n",
       "         -0.2088, -0.1877, -0.2118, -0.2021, -0.1984, -0.1570, -0.1419, -0.1371,\n",
       "         -0.1482, -0.1268, -0.1143, -0.0901, -0.0747, -0.0621, -0.0438, -0.0275,\n",
       "         -0.0157,  0.0002,  0.0007,  0.0014,  0.0025,  0.0038,  0.0060,  0.0079,\n",
       "          0.0106,  0.0121,  0.0159,  0.0212,  0.0237,  0.0225,  0.0311,  0.0367,\n",
       "          0.0386,  0.0417,  0.0591,  0.0558,  0.0641,  0.0616,  0.0801,  0.0865,\n",
       "          0.0859,  0.0886,  0.0000],\n",
       "        [-0.2834, -0.2518, -0.2803, -0.2777, -0.2515, -0.2560, -0.2057, -0.2515,\n",
       "         -0.2083, -0.1877, -0.2122, -0.2025, -0.1990, -0.1573, -0.1420, -0.1373,\n",
       "         -0.1483, -0.1268, -0.1144, -0.0900, -0.0744, -0.0621, -0.0438, -0.0275,\n",
       "         -0.0157,  0.0002,  0.0007,  0.0014,  0.0025,  0.0038,  0.0061,  0.0079,\n",
       "          0.0106,  0.0122,  0.0159,  0.0212,  0.0237,  0.0226,  0.0312,  0.0367,\n",
       "          0.0385,  0.0417,  0.0591,  0.0559,  0.0641,  0.0614,  0.0802,  0.0864,\n",
       "          0.0859,  0.0885,  0.0000],\n",
       "        [-0.2838, -0.2516, -0.2804, -0.2774, -0.2521, -0.2563, -0.2061, -0.2518,\n",
       "         -0.2088, -0.1876, -0.2122, -0.2024, -0.1990, -0.1570, -0.1419, -0.1372,\n",
       "         -0.1485, -0.1268, -0.1144, -0.0900, -0.0745, -0.0620, -0.0438, -0.0276,\n",
       "         -0.0157,  0.0002,  0.0007,  0.0014,  0.0025,  0.0038,  0.0060,  0.0079,\n",
       "          0.0106,  0.0122,  0.0159,  0.0212,  0.0237,  0.0226,  0.0311,  0.0366,\n",
       "          0.0386,  0.0417,  0.0591,  0.0560,  0.0640,  0.0615,  0.0802,  0.0865,\n",
       "          0.0859,  0.0885,  0.0000]])"
      ]
     },
     "execution_count": 432,
     "metadata": {},
     "output_type": "execute_result"
    }
   ],
   "source": [
    "proj_dist"
   ]
  },
  {
   "cell_type": "code",
   "execution_count": 401,
   "metadata": {},
   "outputs": [
    {
     "data": {
      "text/plain": [
       "tensor([-0.1417, -0.1257, -0.1403, -0.1384, -0.1260, -0.1279, -0.1030, -0.1260,\n",
       "        -0.1044, -0.0938, -0.1059, -0.1010, -0.0992, -0.0785, -0.0710, -0.0685,\n",
       "        -0.0741, -0.0634, -0.0572, -0.0450, -0.0374, -0.0310, -0.0219, -0.0138,\n",
       "        -0.0079,  0.0000,  0.0001,  0.0003,  0.0007,  0.0012,  0.0019,  0.0030,\n",
       "         0.0039,  0.0053,  0.0061,  0.0080,  0.0106,  0.0118,  0.0113,  0.0156,\n",
       "         0.0184,  0.0193,  0.0209,  0.0296,  0.0279,  0.0321,  0.0308,  0.0400,\n",
       "         0.0432,  0.0429,  0.0443, -0.1417, -0.1259, -0.1402, -0.1388, -0.1258,\n",
       "        -0.1280, -0.1029, -0.1257, -0.1042, -0.0939, -0.1061, -0.1012, -0.0995,\n",
       "        -0.0786, -0.0710, -0.0687, -0.0742, -0.0634, -0.0572, -0.0450, -0.0372,\n",
       "        -0.0310, -0.0219, -0.0138, -0.0078,  0.0000,  0.0001,  0.0003,  0.0007,\n",
       "         0.0012,  0.0019,  0.0030,  0.0039,  0.0053,  0.0061,  0.0080,  0.0106,\n",
       "         0.0118,  0.0113,  0.0156,  0.0183,  0.0193,  0.0209,  0.0295,  0.0280,\n",
       "         0.0321,  0.0307,  0.0401,  0.0432,  0.0429,  0.0442, -0.1419, -0.1258,\n",
       "        -0.1402, -0.1387, -0.1260, -0.1282, -0.1031, -0.1259, -0.1044, -0.0938,\n",
       "        -0.1061, -0.1012, -0.0995, -0.0785, -0.0710, -0.0686, -0.0742, -0.0634,\n",
       "        -0.0572, -0.0450, -0.0373, -0.0310, -0.0219, -0.0138, -0.0079,  0.0000,\n",
       "         0.0001,  0.0003,  0.0007,  0.0012,  0.0019,  0.0030,  0.0039,  0.0053,\n",
       "         0.0061,  0.0080,  0.0106,  0.0119,  0.0113,  0.0156,  0.0183,  0.0193,\n",
       "         0.0209,  0.0295,  0.0280,  0.0320,  0.0307,  0.0401,  0.0432,  0.0429,\n",
       "         0.0443])"
      ]
     },
     "execution_count": 401,
     "metadata": {},
     "output_type": "execute_result"
    }
   ],
   "source": [
    "(next_dist * (u.float() - b)).view(-1)"
   ]
  },
  {
   "cell_type": "code",
   "execution_count": 436,
   "metadata": {},
   "outputs": [
    {
     "data": {
      "text/plain": [
       "torch.Size([3, 51])"
      ]
     },
     "execution_count": 436,
     "metadata": {},
     "output_type": "execute_result"
    }
   ],
   "source": [
    "proj_dist.shape"
   ]
  },
  {
   "cell_type": "code",
   "execution_count": null,
   "metadata": {},
   "outputs": [],
   "source": []
  },
  {
   "cell_type": "code",
   "execution_count": 492,
   "metadata": {},
   "outputs": [],
   "source": [
    "a = np.zeros((3,51))"
   ]
  },
  {
   "cell_type": "code",
   "execution_count": 494,
   "metadata": {},
   "outputs": [],
   "source": [
    "b = (l + offset).view(-1).numpy()\n",
    "b = b.astype(int)\n",
    "c = np.arange(3*51).reshape(-1)"
   ]
  },
  {
   "cell_type": "code",
   "execution_count": 497,
   "metadata": {},
   "outputs": [
    {
     "data": {
      "text/plain": [
       "(3, 51)"
      ]
     },
     "execution_count": 497,
     "metadata": {},
     "output_type": "execute_result"
    }
   ],
   "source": [
    "a.shape"
   ]
  },
  {
   "cell_type": "code",
   "execution_count": 498,
   "metadata": {},
   "outputs": [],
   "source": [
    "np.put(a,b,c)"
   ]
  },
  {
   "cell_type": "code",
   "execution_count": 499,
   "metadata": {},
   "outputs": [
    {
     "data": {
      "text/plain": [
       "array([[  0.,   1.,   2.,   3.,   4.,   5.,   6.,   7.,   8.,   9.,  10.,\n",
       "         11.,  12.,  13.,  14.,  15.,  16.,  17.,  18.,  19.,  20.,  21.,\n",
       "         22.,  23.,  24.,  26.,  27.,  28.,  29.,  30.,  31.,  32.,  33.,\n",
       "         34.,  35.,  36.,  37.,  38.,  39.,  40.,  41.,  42.,  43.,  44.,\n",
       "         45.,  46.,  47.,  48.,  49.,  50.,   0.],\n",
       "       [ 51.,  52.,  53.,  54.,  55.,  56.,  57.,  58.,  59.,  60.,  61.,\n",
       "         62.,  63.,  64.,  65.,  66.,  67.,  68.,  69.,  70.,  71.,  72.,\n",
       "         73.,  74.,  75.,  77.,  78.,  79.,  80.,  81.,  82.,  83.,  84.,\n",
       "         85.,  86.,  87.,  88.,  89.,  90.,  91.,  92.,  93.,  94.,  95.,\n",
       "         96.,  97.,  98.,  99., 100., 101.,   0.],\n",
       "       [102., 103., 104., 105., 106., 107., 108., 109., 110., 111., 112.,\n",
       "        113., 114., 115., 116., 117., 118., 119., 120., 121., 122., 123.,\n",
       "        124., 125., 126., 128., 129., 130., 131., 132., 133., 134., 135.,\n",
       "        136., 137., 138., 139., 140., 141., 142., 143., 144., 145., 146.,\n",
       "        147., 148., 149., 150., 151., 152.,   0.]])"
      ]
     },
     "execution_count": 499,
     "metadata": {},
     "output_type": "execute_result"
    }
   ],
   "source": [
    "a"
   ]
  },
  {
   "cell_type": "code",
   "execution_count": 485,
   "metadata": {},
   "outputs": [
    {
     "data": {
      "text/plain": [
       "array([  0,   1,   2,   3,   4,   5,   6,   7,   8,   9,  10,  11,  12,\n",
       "        13,  14,  15,  16,  17,  18,  19,  20,  21,  22,  23,  24,  25,\n",
       "        25,  26,  27,  28,  29,  30,  31,  32,  33,  34,  35,  36,  37,\n",
       "        38,  39,  40,  41,  42,  43,  44,  45,  46,  47,  48,  49,  51,\n",
       "        52,  53,  54,  55,  56,  57,  58,  59,  60,  61,  62,  63,  64,\n",
       "        65,  66,  67,  68,  69,  70,  71,  72,  73,  74,  75,  76,  76,\n",
       "        77,  78,  79,  80,  81,  82,  83,  84,  85,  86,  87,  88,  89,\n",
       "        90,  91,  92,  93,  94,  95,  96,  97,  98,  99, 100, 102, 103,\n",
       "       104, 105, 106, 107, 108, 109, 110, 111, 112, 113, 114, 115, 116,\n",
       "       117, 118, 119, 120, 121, 122, 123, 124, 125, 126, 127, 127, 128,\n",
       "       129, 130, 131, 132, 133, 134, 135, 136, 137, 138, 139, 140, 141,\n",
       "       142, 143, 144, 145, 146, 147, 148, 149, 150, 151])"
      ]
     },
     "execution_count": 485,
     "metadata": {},
     "output_type": "execute_result"
    }
   ],
   "source": [
    "b"
   ]
  },
  {
   "cell_type": "code",
   "execution_count": 486,
   "metadata": {},
   "outputs": [
    {
     "data": {
      "text/plain": [
       "array([  0,   1,   2,   3,   4,   5,   6,   7,   8,   9,  10,  11,  12,\n",
       "        13,  14,  15,  16,  17,  18,  19,  20,  21,  22,  23,  24,  25,\n",
       "        26,  27,  28,  29,  30,  31,  32,  33,  34,  35,  36,  37,  38,\n",
       "        39,  40,  41,  42,  43,  44,  45,  46,  47,  48,  49,  50,  51,\n",
       "        52,  53,  54,  55,  56,  57,  58,  59,  60,  61,  62,  63,  64,\n",
       "        65,  66,  67,  68,  69,  70,  71,  72,  73,  74,  75,  76,  77,\n",
       "        78,  79,  80,  81,  82,  83,  84,  85,  86,  87,  88,  89,  90,\n",
       "        91,  92,  93,  94,  95,  96,  97,  98,  99, 100, 101, 102, 103,\n",
       "       104, 105, 106, 107, 108, 109, 110, 111, 112, 113, 114, 115, 116,\n",
       "       117, 118, 119, 120, 121, 122, 123, 124, 125, 126, 127, 128, 129,\n",
       "       130, 131, 132, 133, 134, 135, 136, 137, 138, 139, 140, 141, 142,\n",
       "       143, 144, 145, 146, 147, 148, 149, 150, 151, 152])"
      ]
     },
     "execution_count": 486,
     "metadata": {},
     "output_type": "execute_result"
    }
   ],
   "source": [
    "c"
   ]
  },
  {
   "cell_type": "code",
   "execution_count": 463,
   "metadata": {},
   "outputs": [
    {
     "ename": "TypeError",
     "evalue": "sub() received an invalid combination of arguments - got (numpy.ndarray), but expected one of:\n * (Tensor other, Number alpha)\n * (Number other, Number alpha)\n",
     "output_type": "error",
     "traceback": [
      "\u001b[0;31m---------------------------------------------------------------------------\u001b[0m",
      "\u001b[0;31mTypeError\u001b[0m                                 Traceback (most recent call last)",
      "\u001b[0;32m<ipython-input-463-5fd927267881>\u001b[0m in \u001b[0;36m<module>\u001b[0;34m\u001b[0m\n\u001b[0;32m----> 1\u001b[0;31m \u001b[0;34m(\u001b[0m\u001b[0mu\u001b[0m\u001b[0;34m.\u001b[0m\u001b[0mfloat\u001b[0m\u001b[0;34m(\u001b[0m\u001b[0;34m)\u001b[0m \u001b[0;34m-\u001b[0m \u001b[0mb\u001b[0m\u001b[0;34m)\u001b[0m\u001b[0;34m\u001b[0m\u001b[0m\n\u001b[0m",
      "\u001b[0;31mTypeError\u001b[0m: sub() received an invalid combination of arguments - got (numpy.ndarray), but expected one of:\n * (Tensor other, Number alpha)\n * (Number other, Number alpha)\n"
     ]
    }
   ],
   "source": [
    "(u.float() - b)"
   ]
  },
  {
   "cell_type": "code",
   "execution_count": 442,
   "metadata": {},
   "outputs": [
    {
     "ename": "TypeError",
     "evalue": "sub() received an invalid combination of arguments - got (numpy.ndarray), but expected one of:\n * (Tensor other, Number alpha)\n * (Number other, Number alpha)\n",
     "output_type": "error",
     "traceback": [
      "\u001b[0;31m---------------------------------------------------------------------------\u001b[0m",
      "\u001b[0;31mTypeError\u001b[0m                                 Traceback (most recent call last)",
      "\u001b[0;32m<ipython-input-442-985c6283a1b5>\u001b[0m in \u001b[0;36m<module>\u001b[0;34m\u001b[0m\n\u001b[0;32m----> 1\u001b[0;31m \u001b[0;34m(\u001b[0m\u001b[0mnext_dist\u001b[0m \u001b[0;34m*\u001b[0m \u001b[0;34m(\u001b[0m\u001b[0mu\u001b[0m\u001b[0;34m.\u001b[0m\u001b[0mfloat\u001b[0m\u001b[0;34m(\u001b[0m\u001b[0;34m)\u001b[0m \u001b[0;34m-\u001b[0m \u001b[0mb\u001b[0m\u001b[0;34m)\u001b[0m\u001b[0;34m)\u001b[0m\u001b[0;34m.\u001b[0m\u001b[0mview\u001b[0m\u001b[0;34m(\u001b[0m\u001b[0;34m-\u001b[0m\u001b[0;36m1\u001b[0m\u001b[0;34m)\u001b[0m\u001b[0;34m\u001b[0m\u001b[0m\n\u001b[0m",
      "\u001b[0;31mTypeError\u001b[0m: sub() received an invalid combination of arguments - got (numpy.ndarray), but expected one of:\n * (Tensor other, Number alpha)\n * (Number other, Number alpha)\n"
     ]
    }
   ],
   "source": [
    "(next_dist * (u.float() - b)).view(-1)"
   ]
  },
  {
   "cell_type": "code",
   "execution_count": 403,
   "metadata": {},
   "outputs": [
    {
     "data": {
      "text/plain": [
       "torch.Size([3, 51])"
      ]
     },
     "execution_count": 403,
     "metadata": {},
     "output_type": "execute_result"
    }
   ],
   "source": [
    "next_dist.shape"
   ]
  },
  {
   "cell_type": "code",
   "execution_count": null,
   "metadata": {},
   "outputs": [],
   "source": [
    "nd.utils."
   ]
  },
  {
   "cell_type": "code",
   "execution_count": 402,
   "metadata": {},
   "outputs": [
    {
     "data": {
      "text/plain": [
       "torch.Size([3, 51])"
      ]
     },
     "execution_count": 402,
     "metadata": {},
     "output_type": "execute_result"
    }
   ],
   "source": [
    "proj_dist.shape"
   ]
  },
  {
   "cell_type": "code",
   "execution_count": 404,
   "metadata": {},
   "outputs": [
    {
     "data": {
      "text/plain": [
       "153"
      ]
     },
     "execution_count": 404,
     "metadata": {},
     "output_type": "execute_result"
    }
   ],
   "source": [
    "3 * 51"
   ]
  },
  {
   "cell_type": "code",
   "execution_count": 405,
   "metadata": {},
   "outputs": [
    {
     "data": {
      "text/plain": [
       "tensor([  0,   1,   2,   3,   4,   5,   6,   7,   8,   9,  10,  11,  12,  13,\n",
       "         14,  15,  16,  17,  18,  19,  20,  21,  22,  23,  24,  25,  25,  26,\n",
       "         27,  28,  29,  30,  31,  32,  33,  34,  35,  36,  37,  38,  39,  40,\n",
       "         41,  42,  43,  44,  45,  46,  47,  48,  49,  51,  52,  53,  54,  55,\n",
       "         56,  57,  58,  59,  60,  61,  62,  63,  64,  65,  66,  67,  68,  69,\n",
       "         70,  71,  72,  73,  74,  75,  76,  76,  77,  78,  79,  80,  81,  82,\n",
       "         83,  84,  85,  86,  87,  88,  89,  90,  91,  92,  93,  94,  95,  96,\n",
       "         97,  98,  99, 100, 102, 103, 104, 105, 106, 107, 108, 109, 110, 111,\n",
       "        112, 113, 114, 115, 116, 117, 118, 119, 120, 121, 122, 123, 124, 125,\n",
       "        126, 127, 127, 128, 129, 130, 131, 132, 133, 134, 135, 136, 137, 138,\n",
       "        139, 140, 141, 142, 143, 144, 145, 146, 147, 148, 149, 150, 151])"
      ]
     },
     "execution_count": 405,
     "metadata": {},
     "output_type": "execute_result"
    }
   ],
   "source": [
    "(l + offset).view(-1).long()"
   ]
  },
  {
   "cell_type": "code",
   "execution_count": 413,
   "metadata": {},
   "outputs": [],
   "source": [
    "x = torch.zeros(5, 3)\n",
    "t = torch.tensor([[1, 2, 3], [4, 5, 6], [7, 8, 9]], dtype=torch.float)\n",
    "index = torch.tensor([0, 4, 2])"
   ]
  },
  {
   "cell_type": "code",
   "execution_count": 414,
   "metadata": {},
   "outputs": [
    {
     "data": {
      "text/plain": [
       "torch.Size([5, 3])"
      ]
     },
     "execution_count": 414,
     "metadata": {},
     "output_type": "execute_result"
    }
   ],
   "source": [
    "x.shape"
   ]
  },
  {
   "cell_type": "code",
   "execution_count": 419,
   "metadata": {},
   "outputs": [
    {
     "ename": "RuntimeError",
     "evalue": "Expected object of type torch.LongTensor but found type torch.FloatTensor for argument #3 'index'",
     "output_type": "error",
     "traceback": [
      "\u001b[0;31m---------------------------------------------------------------------------\u001b[0m",
      "\u001b[0;31mRuntimeError\u001b[0m                              Traceback (most recent call last)",
      "\u001b[0;32m<ipython-input-419-f978b39a4a44>\u001b[0m in \u001b[0;36m<module>\u001b[0;34m\u001b[0m\n\u001b[0;32m----> 1\u001b[0;31m \u001b[0mx\u001b[0m\u001b[0;34m.\u001b[0m\u001b[0mview\u001b[0m\u001b[0;34m(\u001b[0m\u001b[0;34m-\u001b[0m\u001b[0;36m1\u001b[0m\u001b[0;34m)\u001b[0m\u001b[0;34m.\u001b[0m\u001b[0mindex_add_\u001b[0m\u001b[0;34m(\u001b[0m\u001b[0;36m0\u001b[0m\u001b[0;34m,\u001b[0m\u001b[0mindex\u001b[0m\u001b[0;34m,\u001b[0m\u001b[0mt\u001b[0m\u001b[0;34m)\u001b[0m\u001b[0;34m\u001b[0m\u001b[0m\n\u001b[0m",
      "\u001b[0;31mRuntimeError\u001b[0m: Expected object of type torch.LongTensor but found type torch.FloatTensor for argument #3 'index'"
     ]
    }
   ],
   "source": [
    "x.view(-1).index_add_(0,index,t)"
   ]
  },
  {
   "cell_type": "code",
   "execution_count": 422,
   "metadata": {},
   "outputs": [],
   "source": [
    "x = torch.zeros(next_dist.shape)\n",
    "t = (next_dist * (u.float() - b)).view(-1)\n",
    "index = (l + offset).view(-1).long()"
   ]
  },
  {
   "cell_type": "code",
   "execution_count": 425,
   "metadata": {},
   "outputs": [
    {
     "data": {
      "text/plain": [
       "torch.Size([153])"
      ]
     },
     "execution_count": 425,
     "metadata": {},
     "output_type": "execute_result"
    }
   ],
   "source": [
    "x.view(-1).shape"
   ]
  },
  {
   "cell_type": "code",
   "execution_count": 426,
   "metadata": {},
   "outputs": [
    {
     "data": {
      "text/plain": [
       "torch.Size([153])"
      ]
     },
     "execution_count": 426,
     "metadata": {},
     "output_type": "execute_result"
    }
   ],
   "source": [
    "x.view(-1).index_add_(0,index,t).shape"
   ]
  },
  {
   "cell_type": "code",
   "execution_count": 362,
   "metadata": {},
   "outputs": [],
   "source": [
    "temp = next_dist * (u - b)"
   ]
  },
  {
   "cell_type": "code",
   "execution_count": 363,
   "metadata": {},
   "outputs": [
    {
     "data": {
      "text/plain": [
       "(3, 51)"
      ]
     },
     "execution_count": 363,
     "metadata": {},
     "output_type": "execute_result"
    }
   ],
   "source": [
    "temp.shape"
   ]
  },
  {
   "cell_type": "code",
   "execution_count": 342,
   "metadata": {},
   "outputs": [
    {
     "data": {
      "text/plain": [
       "tensor([[1., 2., 3.],\n",
       "        [0., 0., 0.],\n",
       "        [7., 8., 9.],\n",
       "        [0., 0., 0.],\n",
       "        [4., 5., 6.]])"
      ]
     },
     "execution_count": 342,
     "metadata": {},
     "output_type": "execute_result"
    }
   ],
   "source": [
    "x.index_add_(0, index, t)"
   ]
  },
  {
   "cell_type": "code",
   "execution_count": 354,
   "metadata": {},
   "outputs": [
    {
     "data": {
      "text/plain": [
       "\n",
       "[  0.   1.   2.   3.   4.   5.   6.   7.   8.   9.  10.  11.  12.  13.\n",
       "  14.  15.  16.  17.  18.  19.  20.  21.  22.  23.  24.  25.  25.  26.\n",
       "  27.  28.  29.  30.  31.  32.  33.  34.  35.  36.  37.  38.  39.  40.\n",
       "  41.  42.  43.  44.  45.  46.  47.  48.  49.  51.  52.  53.  54.  55.\n",
       "  56.  57.  58.  59.  60.  61.  62.  63.  64.  65.  66.  67.  68.  69.\n",
       "  70.  71.  72.  73.  74.  75.  76.  76.  77.  78.  79.  80.  81.  82.\n",
       "  83.  84.  85.  86.  87.  88.  89.  90.  91.  92.  93.  94.  95.  96.\n",
       "  97.  98.  99. 100. 102. 103. 104. 105. 106. 107. 108. 109. 110. 111.\n",
       " 112. 113. 114. 115. 116. 117. 118. 119. 120. 121. 122. 123. 124. 125.\n",
       " 126. 127. 127. 128. 129. 130. 131. 132. 133. 134. 135. 136. 137. 138.\n",
       " 139. 140. 141. 142. 143. 144. 145. 146. 147. 148. 149. 150. 151.]\n",
       "<NDArray 153 @gpu(0)>"
      ]
     },
     "execution_count": 354,
     "metadata": {},
     "output_type": "execute_result"
    }
   ],
   "source": [
    "(l+offset).reshape(-1)"
   ]
  },
  {
   "cell_type": "code",
   "execution_count": 357,
   "metadata": {},
   "outputs": [
    {
     "data": {
      "text/plain": [
       "\n",
       "[[  0.   1.   2.   3.   4.   5.   6.   7.   8.   9.  10.  11.  12.  13.\n",
       "   14.  15.  16.  17.  18.  19.  20.  21.  22.  23.  24.  25.  25.  26.\n",
       "   27.  28.  29.  30.  31.  32.  33.  34.  35.  36.  37.  38.  39.  40.\n",
       "   41.  42.  43.  44.  45.  46.  47.  48.  49.]\n",
       " [ 51.  52.  53.  54.  55.  56.  57.  58.  59.  60.  61.  62.  63.  64.\n",
       "   65.  66.  67.  68.  69.  70.  71.  72.  73.  74.  75.  76.  76.  77.\n",
       "   78.  79.  80.  81.  82.  83.  84.  85.  86.  87.  88.  89.  90.  91.\n",
       "   92.  93.  94.  95.  96.  97.  98.  99. 100.]\n",
       " [102. 103. 104. 105. 106. 107. 108. 109. 110. 111. 112. 113. 114. 115.\n",
       "  116. 117. 118. 119. 120. 121. 122. 123. 124. 125. 126. 127. 127. 128.\n",
       "  129. 130. 131. 132. 133. 134. 135. 136. 137. 138. 139. 140. 141. 142.\n",
       "  143. 144. 145. 146. 147. 148. 149. 150. 151.]]\n",
       "<NDArray 3x51 @gpu(0)>"
      ]
     },
     "execution_count": 357,
     "metadata": {},
     "output_type": "execute_result"
    }
   ],
   "source": [
    "(l+offset)"
   ]
  },
  {
   "cell_type": "code",
   "execution_count": 355,
   "metadata": {},
   "outputs": [
    {
     "data": {
      "text/plain": [
       "\n",
       "[[  0.   0.   0.   0.   0.   0.   0.   0.   0.   0.   0.   0.   0.   0.\n",
       "    0.   0.   0.   0.   0.   0.   0.   0.   0.   0.   0.   0.   0.   0.\n",
       "    0.   0.   0.   0.   0.   0.   0.   0.   0.   0.   0.   0.   0.   0.\n",
       "    0.   0.   0.   0.   0.   0.   0.   0.   0.]\n",
       " [ 51.  51.  51.  51.  51.  51.  51.  51.  51.  51.  51.  51.  51.  51.\n",
       "   51.  51.  51.  51.  51.  51.  51.  51.  51.  51.  51.  51.  51.  51.\n",
       "   51.  51.  51.  51.  51.  51.  51.  51.  51.  51.  51.  51.  51.  51.\n",
       "   51.  51.  51.  51.  51.  51.  51.  51.  51.]\n",
       " [102. 102. 102. 102. 102. 102. 102. 102. 102. 102. 102. 102. 102. 102.\n",
       "  102. 102. 102. 102. 102. 102. 102. 102. 102. 102. 102. 102. 102. 102.\n",
       "  102. 102. 102. 102. 102. 102. 102. 102. 102. 102. 102. 102. 102. 102.\n",
       "  102. 102. 102. 102. 102. 102. 102. 102. 102.]]\n",
       "<NDArray 3x51 @gpu(0)>"
      ]
     },
     "execution_count": 355,
     "metadata": {},
     "output_type": "execute_result"
    }
   ],
   "source": [
    "offset"
   ]
  },
  {
   "cell_type": "code",
   "execution_count": 350,
   "metadata": {},
   "outputs": [
    {
     "ename": "MXNetError",
     "evalue": "[16:30:08] src/operator/tensor/./elemwise_binary_broadcast_op.h:68: Check failed: l == 1 || r == 1 operands could not be broadcast together with shapes [3,51] [153]\n\nStack trace returned 10 entries:\n[bt] (0) /opt/venv/lib/python3.5/site-packages/mxnet/libmxnet.so(+0x382d4a) [0x7f0214f3cd4a]\n[bt] (1) /opt/venv/lib/python3.5/site-packages/mxnet/libmxnet.so(+0x383381) [0x7f0214f3d381]\n[bt] (2) /opt/venv/lib/python3.5/site-packages/mxnet/libmxnet.so(+0xea8c27) [0x7f0215a62c27]\n[bt] (3) /opt/venv/lib/python3.5/site-packages/mxnet/libmxnet.so(+0x2b8316a) [0x7f021773d16a]\n[bt] (4) /opt/venv/lib/python3.5/site-packages/mxnet/libmxnet.so(+0x2b8d2a9) [0x7f02177472a9]\n[bt] (5) /opt/venv/lib/python3.5/site-packages/mxnet/libmxnet.so(+0x2aa4a49) [0x7f021765ea49]\n[bt] (6) /opt/venv/lib/python3.5/site-packages/mxnet/libmxnet.so(MXImperativeInvokeEx+0x6f) [0x7f021765f03f]\n[bt] (7) /usr/lib/python3.5/lib-dynload/_ctypes.cpython-35m-x86_64-linux-gnu.so(ffi_call_unix64+0x4c) [0x7f02fb48ae20]\n[bt] (8) /usr/lib/python3.5/lib-dynload/_ctypes.cpython-35m-x86_64-linux-gnu.so(ffi_call+0x2eb) [0x7f02fb48a88b]\n[bt] (9) /usr/lib/python3.5/lib-dynload/_ctypes.cpython-35m-x86_64-linux-gnu.so(_ctypes_callproc+0x49a) [0x7f02fb48501a]\n\n",
     "output_type": "error",
     "traceback": [
      "\u001b[0;31m---------------------------------------------------------------------------\u001b[0m",
      "\u001b[0;31mMXNetError\u001b[0m                                Traceback (most recent call last)",
      "\u001b[0;32m<ipython-input-350-613db9967fef>\u001b[0m in \u001b[0;36m<module>\u001b[0;34m\u001b[0m\n\u001b[0;32m----> 1\u001b[0;31m \u001b[0ml\u001b[0m \u001b[0;34m+\u001b[0m \u001b[0moffset\u001b[0m\u001b[0;34m.\u001b[0m\u001b[0mreshape\u001b[0m\u001b[0;34m(\u001b[0m\u001b[0;34m-\u001b[0m\u001b[0;36m1\u001b[0m\u001b[0;34m)\u001b[0m\u001b[0;34m\u001b[0m\u001b[0m\n\u001b[0m",
      "\u001b[0;32m/opt/venv/lib/python3.5/site-packages/mxnet/ndarray/ndarray.py\u001b[0m in \u001b[0;36m__add__\u001b[0;34m(self, other)\u001b[0m\n\u001b[1;32m    203\u001b[0m     \u001b[0;32mdef\u001b[0m \u001b[0m__add__\u001b[0m\u001b[0;34m(\u001b[0m\u001b[0mself\u001b[0m\u001b[0;34m,\u001b[0m \u001b[0mother\u001b[0m\u001b[0;34m)\u001b[0m\u001b[0;34m:\u001b[0m\u001b[0;34m\u001b[0m\u001b[0m\n\u001b[1;32m    204\u001b[0m         \u001b[0;34m\"\"\"x.__add__(y) <=> x+y <=> mx.nd.add(x, y) \"\"\"\u001b[0m\u001b[0;34m\u001b[0m\u001b[0m\n\u001b[0;32m--> 205\u001b[0;31m         \u001b[0;32mreturn\u001b[0m \u001b[0madd\u001b[0m\u001b[0;34m(\u001b[0m\u001b[0mself\u001b[0m\u001b[0;34m,\u001b[0m \u001b[0mother\u001b[0m\u001b[0;34m)\u001b[0m\u001b[0;34m\u001b[0m\u001b[0m\n\u001b[0m\u001b[1;32m    206\u001b[0m \u001b[0;34m\u001b[0m\u001b[0m\n\u001b[1;32m    207\u001b[0m     \u001b[0;32mdef\u001b[0m \u001b[0m__iadd__\u001b[0m\u001b[0;34m(\u001b[0m\u001b[0mself\u001b[0m\u001b[0;34m,\u001b[0m \u001b[0mother\u001b[0m\u001b[0;34m)\u001b[0m\u001b[0;34m:\u001b[0m\u001b[0;34m\u001b[0m\u001b[0m\n",
      "\u001b[0;32m/opt/venv/lib/python3.5/site-packages/mxnet/ndarray/ndarray.py\u001b[0m in \u001b[0;36madd\u001b[0;34m(lhs, rhs)\u001b[0m\n\u001b[1;32m   2631\u001b[0m         \u001b[0moperator\u001b[0m\u001b[0;34m.\u001b[0m\u001b[0madd\u001b[0m\u001b[0;34m,\u001b[0m\u001b[0;34m\u001b[0m\u001b[0m\n\u001b[1;32m   2632\u001b[0m         \u001b[0m_internal\u001b[0m\u001b[0;34m.\u001b[0m\u001b[0m_plus_scalar\u001b[0m\u001b[0;34m,\u001b[0m\u001b[0;34m\u001b[0m\u001b[0m\n\u001b[0;32m-> 2633\u001b[0;31m         None)\n\u001b[0m\u001b[1;32m   2634\u001b[0m     \u001b[0;31m# pylint: enable= no-member, protected-access\u001b[0m\u001b[0;34m\u001b[0m\u001b[0;34m\u001b[0m\u001b[0m\n\u001b[1;32m   2635\u001b[0m \u001b[0;34m\u001b[0m\u001b[0m\n",
      "\u001b[0;32m/opt/venv/lib/python3.5/site-packages/mxnet/ndarray/ndarray.py\u001b[0m in \u001b[0;36m_ufunc_helper\u001b[0;34m(lhs, rhs, fn_array, fn_scalar, lfn_scalar, rfn_scalar)\u001b[0m\n\u001b[1;32m   2567\u001b[0m         \u001b[0;32mreturn\u001b[0m \u001b[0mlfn_scalar\u001b[0m\u001b[0;34m(\u001b[0m\u001b[0mlhs\u001b[0m\u001b[0;34m,\u001b[0m \u001b[0mfloat\u001b[0m\u001b[0;34m(\u001b[0m\u001b[0mrhs\u001b[0m\u001b[0;34m)\u001b[0m\u001b[0;34m)\u001b[0m\u001b[0;34m\u001b[0m\u001b[0m\n\u001b[1;32m   2568\u001b[0m     \u001b[0;32melif\u001b[0m \u001b[0misinstance\u001b[0m\u001b[0;34m(\u001b[0m\u001b[0mrhs\u001b[0m\u001b[0;34m,\u001b[0m \u001b[0mNDArray\u001b[0m\u001b[0;34m)\u001b[0m\u001b[0;34m:\u001b[0m\u001b[0;34m\u001b[0m\u001b[0m\n\u001b[0;32m-> 2569\u001b[0;31m         \u001b[0;32mreturn\u001b[0m \u001b[0mfn_array\u001b[0m\u001b[0;34m(\u001b[0m\u001b[0mlhs\u001b[0m\u001b[0;34m,\u001b[0m \u001b[0mrhs\u001b[0m\u001b[0;34m)\u001b[0m\u001b[0;34m\u001b[0m\u001b[0m\n\u001b[0m\u001b[1;32m   2570\u001b[0m     \u001b[0;32melse\u001b[0m\u001b[0;34m:\u001b[0m\u001b[0;34m\u001b[0m\u001b[0m\n\u001b[1;32m   2571\u001b[0m         \u001b[0;32mraise\u001b[0m \u001b[0mTypeError\u001b[0m\u001b[0;34m(\u001b[0m\u001b[0;34m'type %s not supported'\u001b[0m \u001b[0;34m%\u001b[0m \u001b[0mstr\u001b[0m\u001b[0;34m(\u001b[0m\u001b[0mtype\u001b[0m\u001b[0;34m(\u001b[0m\u001b[0mrhs\u001b[0m\u001b[0;34m)\u001b[0m\u001b[0;34m)\u001b[0m\u001b[0;34m)\u001b[0m\u001b[0;34m\u001b[0m\u001b[0m\n",
      "\u001b[0;32m/opt/venv/lib/python3.5/site-packages/mxnet/ndarray/register.py\u001b[0m in \u001b[0;36mbroadcast_add\u001b[0;34m(lhs, rhs, out, name, **kwargs)\u001b[0m\n",
      "\u001b[0;32m/opt/venv/lib/python3.5/site-packages/mxnet/_ctypes/ndarray.py\u001b[0m in \u001b[0;36m_imperative_invoke\u001b[0;34m(handle, ndargs, keys, vals, out)\u001b[0m\n\u001b[1;32m     90\u001b[0m         \u001b[0mc_str_array\u001b[0m\u001b[0;34m(\u001b[0m\u001b[0mkeys\u001b[0m\u001b[0;34m)\u001b[0m\u001b[0;34m,\u001b[0m\u001b[0;34m\u001b[0m\u001b[0m\n\u001b[1;32m     91\u001b[0m         \u001b[0mc_str_array\u001b[0m\u001b[0;34m(\u001b[0m\u001b[0;34m[\u001b[0m\u001b[0mstr\u001b[0m\u001b[0;34m(\u001b[0m\u001b[0ms\u001b[0m\u001b[0;34m)\u001b[0m \u001b[0;32mfor\u001b[0m \u001b[0ms\u001b[0m \u001b[0;32min\u001b[0m \u001b[0mvals\u001b[0m\u001b[0;34m]\u001b[0m\u001b[0;34m)\u001b[0m\u001b[0;34m,\u001b[0m\u001b[0;34m\u001b[0m\u001b[0m\n\u001b[0;32m---> 92\u001b[0;31m         ctypes.byref(out_stypes)))\n\u001b[0m\u001b[1;32m     93\u001b[0m \u001b[0;34m\u001b[0m\u001b[0m\n\u001b[1;32m     94\u001b[0m     \u001b[0;32mif\u001b[0m \u001b[0moriginal_output\u001b[0m \u001b[0;32mis\u001b[0m \u001b[0;32mnot\u001b[0m \u001b[0;32mNone\u001b[0m\u001b[0;34m:\u001b[0m\u001b[0;34m\u001b[0m\u001b[0m\n",
      "\u001b[0;32m/opt/venv/lib/python3.5/site-packages/mxnet/base.py\u001b[0m in \u001b[0;36mcheck_call\u001b[0;34m(ret)\u001b[0m\n\u001b[1;32m    250\u001b[0m     \"\"\"\n\u001b[1;32m    251\u001b[0m     \u001b[0;32mif\u001b[0m \u001b[0mret\u001b[0m \u001b[0;34m!=\u001b[0m \u001b[0;36m0\u001b[0m\u001b[0;34m:\u001b[0m\u001b[0;34m\u001b[0m\u001b[0m\n\u001b[0;32m--> 252\u001b[0;31m         \u001b[0;32mraise\u001b[0m \u001b[0mMXNetError\u001b[0m\u001b[0;34m(\u001b[0m\u001b[0mpy_str\u001b[0m\u001b[0;34m(\u001b[0m\u001b[0m_LIB\u001b[0m\u001b[0;34m.\u001b[0m\u001b[0mMXGetLastError\u001b[0m\u001b[0;34m(\u001b[0m\u001b[0;34m)\u001b[0m\u001b[0;34m)\u001b[0m\u001b[0;34m)\u001b[0m\u001b[0;34m\u001b[0m\u001b[0m\n\u001b[0m\u001b[1;32m    253\u001b[0m \u001b[0;34m\u001b[0m\u001b[0m\n\u001b[1;32m    254\u001b[0m \u001b[0;34m\u001b[0m\u001b[0m\n",
      "\u001b[0;31mMXNetError\u001b[0m: [16:30:08] src/operator/tensor/./elemwise_binary_broadcast_op.h:68: Check failed: l == 1 || r == 1 operands could not be broadcast together with shapes [3,51] [153]\n\nStack trace returned 10 entries:\n[bt] (0) /opt/venv/lib/python3.5/site-packages/mxnet/libmxnet.so(+0x382d4a) [0x7f0214f3cd4a]\n[bt] (1) /opt/venv/lib/python3.5/site-packages/mxnet/libmxnet.so(+0x383381) [0x7f0214f3d381]\n[bt] (2) /opt/venv/lib/python3.5/site-packages/mxnet/libmxnet.so(+0xea8c27) [0x7f0215a62c27]\n[bt] (3) /opt/venv/lib/python3.5/site-packages/mxnet/libmxnet.so(+0x2b8316a) [0x7f021773d16a]\n[bt] (4) /opt/venv/lib/python3.5/site-packages/mxnet/libmxnet.so(+0x2b8d2a9) [0x7f02177472a9]\n[bt] (5) /opt/venv/lib/python3.5/site-packages/mxnet/libmxnet.so(+0x2aa4a49) [0x7f021765ea49]\n[bt] (6) /opt/venv/lib/python3.5/site-packages/mxnet/libmxnet.so(MXImperativeInvokeEx+0x6f) [0x7f021765f03f]\n[bt] (7) /usr/lib/python3.5/lib-dynload/_ctypes.cpython-35m-x86_64-linux-gnu.so(ffi_call_unix64+0x4c) [0x7f02fb48ae20]\n[bt] (8) /usr/lib/python3.5/lib-dynload/_ctypes.cpython-35m-x86_64-linux-gnu.so(ffi_call+0x2eb) [0x7f02fb48a88b]\n[bt] (9) /usr/lib/python3.5/lib-dynload/_ctypes.cpython-35m-x86_64-linux-gnu.so(_ctypes_callproc+0x49a) [0x7f02fb48501a]\n\n"
     ]
    }
   ],
   "source": [
    "l + offset.reshape(-1)"
   ]
  },
  {
   "cell_type": "code",
   "execution_count": 344,
   "metadata": {},
   "outputs": [
    {
     "data": {
      "text/plain": [
       "torch.Size([5, 3])"
      ]
     },
     "execution_count": 344,
     "metadata": {},
     "output_type": "execute_result"
    }
   ],
   "source": [
    "x.shape"
   ]
  },
  {
   "cell_type": "code",
   "execution_count": 343,
   "metadata": {},
   "outputs": [
    {
     "data": {
      "text/plain": [
       "tensor([[1., 2., 3.],\n",
       "        [0., 0., 0.],\n",
       "        [7., 8., 9.],\n",
       "        [0., 0., 0.],\n",
       "        [4., 5., 6.]])"
      ]
     },
     "execution_count": 343,
     "metadata": {},
     "output_type": "execute_result"
    }
   ],
   "source": [
    "x"
   ]
  },
  {
   "cell_type": "code",
   "execution_count": 253,
   "metadata": {},
   "outputs": [
    {
     "data": {
      "text/plain": [
       "\n",
       "[[0. 0. 0. 0. 0. 0. 0. 0. 0. 0. 0. 0. 0. 0. 0. 0. 0. 0. 0. 0. 0. 0. 0. 0.\n",
       "  0. 0. 0. 0. 0. 0. 0. 0. 0. 0. 0. 0. 0. 0. 0. 0. 0. 0. 0. 0. 0. 0. 0. 0.\n",
       "  0. 0. 0.]\n",
       " [1. 1. 1. 1. 1. 1. 1. 1. 1. 1. 1. 1. 1. 1. 1. 1. 1. 1. 1. 1. 1. 1. 1. 1.\n",
       "  1. 1. 1. 1. 1. 1. 1. 1. 1. 1. 1. 1. 1. 1. 1. 1. 1. 1. 1. 1. 1. 1. 1. 1.\n",
       "  1. 1. 1.]\n",
       " [2. 2. 2. 2. 2. 2. 2. 2. 2. 2. 2. 2. 2. 2. 2. 2. 2. 2. 2. 2. 2. 2. 2. 2.\n",
       "  2. 2. 2. 2. 2. 2. 2. 2. 2. 2. 2. 2. 2. 2. 2. 2. 2. 2. 2. 2. 2. 2. 2. 2.\n",
       "  2. 2. 2.]]\n",
       "<NDArray 3x51 @cpu(0)>"
      ]
     },
     "execution_count": 253,
     "metadata": {},
     "output_type": "execute_result"
    }
   ],
   "source": [
    "xx = nd.on"
   ]
  },
  {
   "cell_type": "code",
   "execution_count": null,
   "metadata": {},
   "outputs": [],
   "source": [
    "np.exp2()"
   ]
  },
  {
   "cell_type": "code",
   "execution_count": 230,
   "metadata": {},
   "outputs": [],
   "source": [
    "aa = torch.from_numpy(np.arange(3))"
   ]
  },
  {
   "cell_type": "code",
   "execution_count": 321,
   "metadata": {},
   "outputs": [
    {
     "data": {
      "text/plain": [
       "torch.Size([3, 51])"
      ]
     },
     "execution_count": 321,
     "metadata": {},
     "output_type": "execute_result"
    }
   ],
   "source": [
    "torch.linspace(0, (batch_size - 1) * num_atoms, batch_size).long()\\\n",
    "                    .unsqueeze(1).expand(batch_size, num_atoms).shape"
   ]
  },
  {
   "cell_type": "code",
   "execution_count": 238,
   "metadata": {},
   "outputs": [
    {
     "data": {
      "text/plain": [
       "torch.Size([3, 51])"
      ]
     },
     "execution_count": 238,
     "metadata": {},
     "output_type": "execute_result"
    }
   ],
   "source": [
    "torch.from_numpy(next_dist.asnumpy()).shape"
   ]
  },
  {
   "cell_type": "code",
   "execution_count": 241,
   "metadata": {},
   "outputs": [
    {
     "data": {
      "text/plain": [
       "torch.Size([3, 1])"
      ]
     },
     "execution_count": 241,
     "metadata": {},
     "output_type": "execute_result"
    }
   ],
   "source": [
    "aa.unsqueeze(1).shape"
   ]
  },
  {
   "cell_type": "code",
   "execution_count": null,
   "metadata": {},
   "outputs": [],
   "source": [
    "aa.expand_as()"
   ]
  },
  {
   "cell_type": "code",
   "execution_count": null,
   "metadata": {},
   "outputs": [],
   "source": [
    "aa.ex"
   ]
  },
  {
   "cell_type": "code",
   "execution_count": 246,
   "metadata": {},
   "outputs": [
    {
     "data": {
      "text/plain": [
       "torch.Size([3, 51])"
      ]
     },
     "execution_count": 246,
     "metadata": {},
     "output_type": "execute_result"
    }
   ],
   "source": [
    "aa.unsqueeze(1).expand_as(torch.from_numpy(next_dist.asnumpy())).shape"
   ]
  },
  {
   "cell_type": "code",
   "execution_count": 243,
   "metadata": {},
   "outputs": [
    {
     "data": {
      "text/plain": [
       "torch.Size([3, 51])"
      ]
     },
     "execution_count": 243,
     "metadata": {},
     "output_type": "execute_result"
    }
   ],
   "source": [
    "torch.from_numpy(next_dist.asnumpy()).shape"
   ]
  },
  {
   "cell_type": "code",
   "execution_count": 183,
   "metadata": {},
   "outputs": [],
   "source": [
    "na = nd.stack(nd.arange(next_action.shape[0], ctx=ctx).expand_dims(-1),next_action.expand_dims(-1), axis=0)"
   ]
  },
  {
   "cell_type": "code",
   "execution_count": 204,
   "metadata": {},
   "outputs": [],
   "source": [
    "next_action = nd.gather_nd(next_dist, na)"
   ]
  },
  {
   "cell_type": "code",
   "execution_count": 207,
   "metadata": {},
   "outputs": [],
   "source": [
    "next_action = next_action.squeeze()"
   ]
  },
  {
   "cell_type": "code",
   "execution_count": null,
   "metadata": {},
   "outputs": [],
   "source": [
    "nd.expand_dims()"
   ]
  },
  {
   "cell_type": "code",
   "execution_count": 213,
   "metadata": {},
   "outputs": [
    {
     "data": {
      "text/plain": [
       "(3, 1)"
      ]
     },
     "execution_count": 213,
     "metadata": {},
     "output_type": "execute_result"
    }
   ],
   "source": [
    "nd.array(reward, ctx=ctx).expand_dims(1).shape"
   ]
  },
  {
   "cell_type": "code",
   "execution_count": 214,
   "metadata": {},
   "outputs": [
    {
     "data": {
      "text/plain": [
       "(3, 6, 51)"
      ]
     },
     "execution_count": 214,
     "metadata": {},
     "output_type": "execute_result"
    }
   ],
   "source": [
    "next_dist.shape"
   ]
  },
  {
   "cell_type": "code",
   "execution_count": 198,
   "metadata": {},
   "outputs": [],
   "source": [
    "x = torch.from_numpy(next_dist.asnumpy())\n",
    "a = torch.from_numpy(next_action.asnumpy()).long()"
   ]
  },
  {
   "cell_type": "code",
   "execution_count": 199,
   "metadata": {},
   "outputs": [],
   "source": [
    "a = a.unsqueeze(1).unsqueeze(1).expand(x.size(0), 1, x.size(2))"
   ]
  },
  {
   "cell_type": "code",
   "execution_count": 200,
   "metadata": {},
   "outputs": [
    {
     "data": {
      "text/plain": [
       "torch.Tensor"
      ]
     },
     "execution_count": 200,
     "metadata": {},
     "output_type": "execute_result"
    }
   ],
   "source": [
    "type(a)"
   ]
  },
  {
   "cell_type": "code",
   "execution_count": 202,
   "metadata": {},
   "outputs": [
    {
     "data": {
      "text/plain": [
       "tensor([[[-0.1861, -0.1757, -0.1683, -0.1685, -0.1743, -0.1356, -0.1661,\n",
       "          -0.1331, -0.1156, -0.1103, -0.1309, -0.1067, -0.1055, -0.0976,\n",
       "          -0.0795, -0.0660, -0.0740, -0.0688, -0.0576, -0.0502, -0.0343,\n",
       "          -0.0313, -0.0229, -0.0154, -0.0077,  0.0000,  0.0078,  0.0145,\n",
       "           0.0247,  0.0351,  0.0351,  0.0450,  0.0511,  0.0706,  0.0729,\n",
       "           0.0838,  0.0848,  0.0972,  0.1049,  0.1100,  0.1070,  0.1374,\n",
       "           0.1574,  0.1621,  0.1479,  0.1736,  0.1554,  0.1749,  0.1818,\n",
       "           0.1620,  0.2137]],\n",
       "\n",
       "        [[-0.1863, -0.1755, -0.1682, -0.1684, -0.1743, -0.1356, -0.1661,\n",
       "          -0.1330, -0.1154, -0.1104, -0.1308, -0.1068, -0.1054, -0.0975,\n",
       "          -0.0795, -0.0660, -0.0740, -0.0688, -0.0577, -0.0502, -0.0343,\n",
       "          -0.0313, -0.0229, -0.0154, -0.0077,  0.0000,  0.0078,  0.0145,\n",
       "           0.0247,  0.0352,  0.0352,  0.0449,  0.0511,  0.0706,  0.0729,\n",
       "           0.0839,  0.0848,  0.0972,  0.1049,  0.1100,  0.1069,  0.1375,\n",
       "           0.1574,  0.1624,  0.1477,  0.1736,  0.1556,  0.1752,  0.1819,\n",
       "           0.1620,  0.2139]],\n",
       "\n",
       "        [[-0.1861, -0.1754, -0.1687, -0.1681, -0.1738, -0.1351, -0.1666,\n",
       "          -0.1333, -0.1158, -0.1107, -0.1313, -0.1066, -0.1056, -0.0980,\n",
       "          -0.0793, -0.0659, -0.0738, -0.0689, -0.0576, -0.0502, -0.0343,\n",
       "          -0.0313, -0.0229, -0.0153, -0.0077,  0.0000,  0.0078,  0.0145,\n",
       "           0.0247,  0.0351,  0.0352,  0.0450,  0.0510,  0.0707,  0.0728,\n",
       "           0.0836,  0.0845,  0.0976,  0.1051,  0.1100,  0.1071,  0.1372,\n",
       "           0.1571,  0.1620,  0.1477,  0.1734,  0.1554,  0.1744,  0.1824,\n",
       "           0.1623,  0.2138]]])"
      ]
     },
     "execution_count": 202,
     "metadata": {},
     "output_type": "execute_result"
    }
   ],
   "source": [
    "x.gather(1, a)"
   ]
  },
  {
   "cell_type": "code",
   "execution_count": 215,
   "metadata": {},
   "outputs": [
    {
     "data": {
      "text/plain": [
       "torch.Size([3, 6, 51])"
      ]
     },
     "execution_count": 215,
     "metadata": {},
     "output_type": "execute_result"
    }
   ],
   "source": [
    "x.shape"
   ]
  },
  {
   "cell_type": "code",
   "execution_count": 216,
   "metadata": {},
   "outputs": [
    {
     "data": {
      "text/plain": [
       "torch.Size([3, 1, 51])"
      ]
     },
     "execution_count": 216,
     "metadata": {},
     "output_type": "execute_result"
    }
   ],
   "source": [
    "a.shape"
   ]
  },
  {
   "cell_type": "code",
   "execution_count": 218,
   "metadata": {},
   "outputs": [
    {
     "data": {
      "text/plain": [
       "torch.Size([3, 6, 51])"
      ]
     },
     "execution_count": 218,
     "metadata": {},
     "output_type": "execute_result"
    }
   ],
   "source": [
    "a.expand_as(x).shape"
   ]
  },
  {
   "cell_type": "code",
   "execution_count": 121,
   "metadata": {},
   "outputs": [],
   "source": [
    "    batch_size = next_state.shape[0]\n",
    "    \n",
    "    delta_z = float(Vmax - Vmin) / (num_atoms - 1)\n",
    "    support = nd.array(np.linspace(Vmin, Vmax, num_atoms), ctx=ctx)"
   ]
  },
  {
   "cell_type": "code",
   "execution_count": 136,
   "metadata": {},
   "outputs": [
    {
     "ename": "NameError",
     "evalue": "name 'target_model' is not defined",
     "output_type": "error",
     "traceback": [
      "\u001b[0;31m---------------------------------------------------------------------------\u001b[0m",
      "\u001b[0;31mNameError\u001b[0m                                 Traceback (most recent call last)",
      "\u001b[0;32m<ipython-input-136-d6a1fc98721c>\u001b[0m in \u001b[0;36m<module>\u001b[0;34m\u001b[0m\n\u001b[0;32m----> 1\u001b[0;31m \u001b[0mtarget_model\u001b[0m\u001b[0;34m\u001b[0m\u001b[0m\n\u001b[0m",
      "\u001b[0;31mNameError\u001b[0m: name 'target_model' is not defined"
     ]
    }
   ],
   "source": [
    "nd.expand_dims()"
   ]
  },
  {
   "cell_type": "code",
   "execution_count": null,
   "metadata": {},
   "outputs": [],
   "source": [
    "next_dist = target_model(next_state) * support"
   ]
  },
  {
   "cell_type": "code",
   "execution_count": 87,
   "metadata": {},
   "outputs": [
    {
     "data": {
      "text/plain": [
       "6"
      ]
     },
     "execution_count": 87,
     "metadata": {},
     "output_type": "execute_result"
    }
   ],
   "source": [
    "env.action_space.n"
   ]
  },
  {
   "cell_type": "code",
   "execution_count": 88,
   "metadata": {},
   "outputs": [],
   "source": [
    "num_atoms = 51\n",
    "Vmin = -10\n",
    "Vmax = 10\n",
    "\n",
    "net = RainbowDQN(env.observation_space.shape, env.action_space.n, num_atoms, Vmin, Vmax, ctx)\n",
    "net.initialize(ctx=ctx)"
   ]
  },
  {
   "cell_type": "code",
   "execution_count": 94,
   "metadata": {},
   "outputs": [],
   "source": [
    "env.reset()\n",
    "state, reward, done, _ = env.step(0)"
   ]
  },
  {
   "cell_type": "code",
   "execution_count": 91,
   "metadata": {},
   "outputs": [
    {
     "data": {
      "text/plain": [
       "51"
      ]
     },
     "execution_count": 91,
     "metadata": {},
     "output_type": "execute_result"
    }
   ],
   "source": [
    "num_atoms"
   ]
  },
  {
   "cell_type": "code",
   "execution_count": 100,
   "metadata": {},
   "outputs": [],
   "source": [
    "next_dist = net(nd.array(np.float32(state), ctx=ctx).expand_dims(0))"
   ]
  },
  {
   "cell_type": "code",
   "execution_count": 105,
   "metadata": {},
   "outputs": [
    {
     "data": {
      "text/plain": [
       "(1, 6, 51)"
      ]
     },
     "execution_count": 105,
     "metadata": {},
     "output_type": "execute_result"
    }
   ],
   "source": [
    "next_dist.shape"
   ]
  },
  {
   "cell_type": "code",
   "execution_count": 103,
   "metadata": {},
   "outputs": [],
   "source": [
    "next_action = nd.argmax(next_dist.sum(2),1)"
   ]
  },
  {
   "cell_type": "code",
   "execution_count": 106,
   "metadata": {},
   "outputs": [
    {
     "data": {
      "text/plain": [
       "\n",
       "[[1.         0.99999994 1.         1.         1.         0.9999999 ]]\n",
       "<NDArray 1x6 @gpu(0)>"
      ]
     },
     "execution_count": 106,
     "metadata": {},
     "output_type": "execute_result"
    }
   ],
   "source": [
    "next_dist.sum(2)"
   ]
  },
  {
   "cell_type": "code",
   "execution_count": 107,
   "metadata": {},
   "outputs": [],
   "source": [
    "import torch"
   ]
  },
  {
   "cell_type": "code",
   "execution_count": 108,
   "metadata": {},
   "outputs": [],
   "source": [
    "x = torch.rand(size=(1,6,51))"
   ]
  },
  {
   "cell_type": "code",
   "execution_count": 112,
   "metadata": {},
   "outputs": [],
   "source": [
    "a = x.sum(2).max(1)[1]"
   ]
  },
  {
   "cell_type": "code",
   "execution_count": 117,
   "metadata": {},
   "outputs": [],
   "source": [
    "a = a.unsqueeze(1).unsqueeze(1).expand(next_dist.shape[0], 1, next_dist.shape[2])"
   ]
  },
  {
   "cell_type": "code",
   "execution_count": 118,
   "metadata": {},
   "outputs": [
    {
     "data": {
      "text/plain": [
       "torch.Size([1, 1, 51])"
      ]
     },
     "execution_count": 118,
     "metadata": {},
     "output_type": "execute_result"
    }
   ],
   "source": [
    "a.shape"
   ]
  },
  {
   "cell_type": "markdown",
   "metadata": {},
   "source": [
    "### For test"
   ]
  },
  {
   "cell_type": "code",
   "execution_count": 129,
   "metadata": {},
   "outputs": [],
   "source": [
    "replay_initial = 100\n",
    "replay_buffer  = ReplayBuffer(100000)"
   ]
  },
  {
   "cell_type": "code",
   "execution_count": 130,
   "metadata": {},
   "outputs": [
    {
     "data": {
      "text/plain": [
       "0"
      ]
     },
     "execution_count": 130,
     "metadata": {},
     "output_type": "execute_result"
    }
   ],
   "source": [
    "len(replay_buffer)"
   ]
  },
  {
   "cell_type": "code",
   "execution_count": 131,
   "metadata": {},
   "outputs": [],
   "source": [
    "state = env.reset()\n",
    "for frame_idx in range(1, 1000000 + 1):\n",
    "    action = 1\n",
    "    \n",
    "    next_state, reward, done, _ = env.step(action)\n",
    "    replay_buffer.push(state, action, reward, next_state, done)\n",
    "    if len(replay_buffer) > replay_initial:\n",
    "        break"
   ]
  },
  {
   "cell_type": "code",
   "execution_count": 132,
   "metadata": {},
   "outputs": [
    {
     "data": {
      "text/plain": [
       "<__main__.ReplayBuffer at 0x7f02b483e898>"
      ]
     },
     "execution_count": 132,
     "metadata": {},
     "output_type": "execute_result"
    }
   ],
   "source": [
    "replay_buffer"
   ]
  },
  {
   "cell_type": "code",
   "execution_count": null,
   "metadata": {},
   "outputs": [],
   "source": []
  }
 ],
 "metadata": {
  "kernelspec": {
   "display_name": "Python 3",
   "language": "python",
   "name": "python3"
  },
  "language_info": {
   "codemirror_mode": {
    "name": "ipython",
    "version": 3
   },
   "file_extension": ".py",
   "mimetype": "text/x-python",
   "name": "python",
   "nbconvert_exporter": "python",
   "pygments_lexer": "ipython3",
   "version": "3.5.2"
  }
 },
 "nbformat": 4,
 "nbformat_minor": 2
}
